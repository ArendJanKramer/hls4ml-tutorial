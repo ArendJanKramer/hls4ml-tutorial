{
 "cells": [
  {
   "cell_type": "markdown",
   "metadata": {},
   "source": [
    "# Before You Start\n",
    "\n",
    "The current set of notebooks are under constant development.\n",
    "\n",
    "## Update Tutorial Repository\n",
    "\n",
    "If you have previously cloned the tutorial repository, you may need to get the latest versions of the notebooks.\n",
    "\n",
    "First check the status of your repository:\n",
    "```\n",
    "cd hls4ml-tutorial\n",
    "make clean\n",
    "git status \n",
    "```\n",
    "\n",
    "You may have some _modified_ notebooks. For example:\n",
    "\n",
    "```\n",
    "# On branch csee-e6868-spring2022\n",
    "# Changes not staged for commit:\n",
    "#   (use \"git add <file>...\" to update what will be committed)\n",
    "#   (use \"git checkout -- <file>...\" to discard changes in working directory)\n",
    "#\n",
    "#\tmodified:   part1_getting_started.ipynb\n",
    "#\tmodified:   part2_advanced_config.ipynb\n",
    "#\n",
    "no changes added to commit (use \"git add\" and/or \"git commit -a\")\n",
    "```\n",
    "\n",
    "You can make a copy of those modified notebooks if you had significat changes, otherwise the easiest thing to do is to discard those changes.\n",
    "\n",
    "**ATTENTION** You will loose your local changes!\n",
    "\n",
    "```\n",
    "git checkout *.ipynb\n",
    "```\n",
    "\n",
    "At this point, you can update you copy of the repository:\n",
    "```\n",
    "git pull\n",
    "```"
   ]
  },
  {
   "cell_type": "markdown",
   "metadata": {},
   "source": [
    "# Part 1: Getting started\n",
    "\n",
    "## Model Training\n",
    "\n",
    "<img src=\"images/training.png\" style=\"width:640px;\" />\n",
    "\n",
    "### Setup\n",
    "\n",
    "Import packages from [TensorFlow](https://www.tensorflow.org), [scikit-learn](https://scikit-learn.org), and [NumPy](https://numpy.org)."
   ]
  },
  {
   "cell_type": "code",
   "execution_count": 1,
   "metadata": {},
   "outputs": [],
   "source": [
    "from tensorflow.keras.utils import to_categorical\n",
    "from sklearn.datasets import fetch_openml\n",
    "from sklearn.model_selection import train_test_split\n",
    "from sklearn.preprocessing import LabelEncoder, StandardScaler\n",
    "import matplotlib.pyplot as plt\n",
    "import numpy as np"
   ]
  },
  {
   "cell_type": "markdown",
   "metadata": {},
   "source": [
    "Use a [magic function](https://ipython.readthedocs.io/en/stable/interactive/tutorial.html#magics-explained) to include matplotlib graphs in the notebook."
   ]
  },
  {
   "cell_type": "code",
   "execution_count": 2,
   "metadata": {},
   "outputs": [],
   "source": [
    "%matplotlib inline"
   ]
  },
  {
   "cell_type": "markdown",
   "metadata": {},
   "source": [
    "Force a deterministic behaviour with a constant seed. In TensorFlow, `tf.random.set_seed` sets a global-random seed; you can also specify operation-level seeds. More [details](https://www.tensorflow.org/api_docs/python/tf/random/set_seed)."
   ]
  },
  {
   "cell_type": "code",
   "execution_count": 3,
   "metadata": {},
   "outputs": [],
   "source": [
    "seed = 0\n",
    "np.random.seed(seed)\n",
    "import tensorflow as tf\n",
    "tf.random.set_seed(seed)"
   ]
  },
  {
   "cell_type": "markdown",
   "metadata": {},
   "source": [
    "Specify where the to find the executable of Xilinx Vivado HLS. The path on the Columbia servers is `/opt/xilinx/Vivado/2019.1/bin`, but you can change it if you have a local installation of this notebook."
   ]
  },
  {
   "cell_type": "code",
   "execution_count": 4,
   "metadata": {},
   "outputs": [
    {
     "name": "stdout",
     "output_type": "stream",
     "text": [
      "-----------------------------------\n",
      "Xilinx Vivado HLS is in the PATH\n",
      "-----------------------------------\n"
     ]
    }
   ],
   "source": [
    "import os\n",
    "os.environ['PATH'] = '/tools/Xilinx/Vivado/2019.1/bin:' + os.environ['PATH']\n",
    "\n",
    "def is_tool(name):\n",
    "    from distutils.spawn import find_executable\n",
    "    return find_executable(name) is not None\n",
    "\n",
    "print('-----------------------------------')\n",
    "if not is_tool('vivado_hls'):\n",
    "    print('Xilinx Vivado HLS is NOT in the PATH')\n",
    "else:\n",
    "    print('Xilinx Vivado HLS is in the PATH')\n",
    "print('-----------------------------------')"
   ]
  },
  {
   "cell_type": "markdown",
   "metadata": {},
   "source": [
    "### Fetch the jet tagging dataset from OpenML\n",
    "\n",
    "The [jet tagging dataset](https://www.openml.org/d/42468) is publicly available on [OpenML](https://www.openml.org)."
   ]
  },
  {
   "cell_type": "code",
   "execution_count": 5,
   "metadata": {},
   "outputs": [],
   "source": [
    "data = fetch_openml('hls4ml_lhc_jets_hlf')\n",
    "X, y = data['data'], data['target']"
   ]
  },
  {
   "cell_type": "markdown",
   "metadata": {},
   "source": [
    "Let's print some information about the dataset (e.g. feature names and the dataset shape)."
   ]
  },
  {
   "cell_type": "code",
   "execution_count": 6,
   "metadata": {
    "scrolled": true
   },
   "outputs": [
    {
     "name": "stdout",
     "output_type": "stream",
     "text": [
      "-----------------------------------\n",
      "Feature names\n",
      "['zlogz', 'c1_b0_mmdt', 'c1_b1_mmdt', 'c1_b2_mmdt', 'c2_b1_mmdt', 'c2_b2_mmdt', 'd2_b1_mmdt', 'd2_b2_mmdt', 'd2_a1_b1_mmdt', 'd2_a1_b2_mmdt', 'm2_b1_mmdt', 'm2_b2_mmdt', 'n2_b1_mmdt', 'n2_b2_mmdt', 'mass_mmdt', 'multiplicity']\n",
      "-----------------------------------\n",
      "Shape of the data and label (target) arrays\n",
      "(830000, 16) (830000,)\n",
      "-----------------------------------\n"
     ]
    }
   ],
   "source": [
    "print('-----------------------------------')\n",
    "print('Feature names')\n",
    "print(data['feature_names'])\n",
    "print('-----------------------------------')\n",
    "print('Shape of the data and label (target) arrays')\n",
    "print(X.shape, y.shape)\n",
    "print('-----------------------------------')"
   ]
  },
  {
   "cell_type": "markdown",
   "metadata": {},
   "source": [
    "Let's print some data and labels."
   ]
  },
  {
   "cell_type": "code",
   "execution_count": 7,
   "metadata": {},
   "outputs": [
    {
     "name": "stdout",
     "output_type": "stream",
     "text": [
      "-----------------------------------\n",
      "\n",
      "First five samples in the data set\n"
     ]
    },
    {
     "data": {
      "text/html": [
       "<div>\n",
       "<style scoped>\n",
       "    .dataframe tbody tr th:only-of-type {\n",
       "        vertical-align: middle;\n",
       "    }\n",
       "\n",
       "    .dataframe tbody tr th {\n",
       "        vertical-align: top;\n",
       "    }\n",
       "\n",
       "    .dataframe thead th {\n",
       "        text-align: right;\n",
       "    }\n",
       "</style>\n",
       "<table border=\"1\" class=\"dataframe\">\n",
       "  <thead>\n",
       "    <tr style=\"text-align: right;\">\n",
       "      <th></th>\n",
       "      <th>zlogz</th>\n",
       "      <th>c1_b0_mmdt</th>\n",
       "      <th>c1_b1_mmdt</th>\n",
       "      <th>c1_b2_mmdt</th>\n",
       "      <th>c2_b1_mmdt</th>\n",
       "      <th>c2_b2_mmdt</th>\n",
       "      <th>d2_b1_mmdt</th>\n",
       "      <th>d2_b2_mmdt</th>\n",
       "      <th>d2_a1_b1_mmdt</th>\n",
       "      <th>d2_a1_b2_mmdt</th>\n",
       "      <th>m2_b1_mmdt</th>\n",
       "      <th>m2_b2_mmdt</th>\n",
       "      <th>n2_b1_mmdt</th>\n",
       "      <th>n2_b2_mmdt</th>\n",
       "      <th>mass_mmdt</th>\n",
       "      <th>multiplicity</th>\n",
       "    </tr>\n",
       "  </thead>\n",
       "  <tbody>\n",
       "    <tr>\n",
       "      <th>0</th>\n",
       "      <td>-2.935125</td>\n",
       "      <td>0.383155</td>\n",
       "      <td>0.005126</td>\n",
       "      <td>0.000084</td>\n",
       "      <td>0.009070</td>\n",
       "      <td>0.000179</td>\n",
       "      <td>1.769445</td>\n",
       "      <td>2.123898</td>\n",
       "      <td>1.769445</td>\n",
       "      <td>0.308185</td>\n",
       "      <td>0.135687</td>\n",
       "      <td>0.083278</td>\n",
       "      <td>0.412136</td>\n",
       "      <td>0.299058</td>\n",
       "      <td>8.926882</td>\n",
       "      <td>75.0</td>\n",
       "    </tr>\n",
       "    <tr>\n",
       "      <th>1</th>\n",
       "      <td>-1.927335</td>\n",
       "      <td>0.270699</td>\n",
       "      <td>0.001585</td>\n",
       "      <td>0.000011</td>\n",
       "      <td>0.003232</td>\n",
       "      <td>0.000029</td>\n",
       "      <td>2.038834</td>\n",
       "      <td>2.563099</td>\n",
       "      <td>2.038834</td>\n",
       "      <td>0.211886</td>\n",
       "      <td>0.063729</td>\n",
       "      <td>0.036310</td>\n",
       "      <td>0.310217</td>\n",
       "      <td>0.226661</td>\n",
       "      <td>3.886512</td>\n",
       "      <td>31.0</td>\n",
       "    </tr>\n",
       "    <tr>\n",
       "      <th>2</th>\n",
       "      <td>-3.112147</td>\n",
       "      <td>0.458171</td>\n",
       "      <td>0.097914</td>\n",
       "      <td>0.028588</td>\n",
       "      <td>0.124278</td>\n",
       "      <td>0.038487</td>\n",
       "      <td>1.269254</td>\n",
       "      <td>1.346238</td>\n",
       "      <td>1.269254</td>\n",
       "      <td>0.246488</td>\n",
       "      <td>0.115636</td>\n",
       "      <td>0.079094</td>\n",
       "      <td>0.357559</td>\n",
       "      <td>0.289220</td>\n",
       "      <td>162.144669</td>\n",
       "      <td>61.0</td>\n",
       "    </tr>\n",
       "    <tr>\n",
       "      <th>3</th>\n",
       "      <td>-2.666515</td>\n",
       "      <td>0.437068</td>\n",
       "      <td>0.049122</td>\n",
       "      <td>0.007978</td>\n",
       "      <td>0.047477</td>\n",
       "      <td>0.004802</td>\n",
       "      <td>0.966505</td>\n",
       "      <td>0.601864</td>\n",
       "      <td>0.966505</td>\n",
       "      <td>0.160756</td>\n",
       "      <td>0.082196</td>\n",
       "      <td>0.033311</td>\n",
       "      <td>0.238871</td>\n",
       "      <td>0.094516</td>\n",
       "      <td>91.258934</td>\n",
       "      <td>39.0</td>\n",
       "    </tr>\n",
       "    <tr>\n",
       "      <th>4</th>\n",
       "      <td>-2.484843</td>\n",
       "      <td>0.428981</td>\n",
       "      <td>0.041786</td>\n",
       "      <td>0.006110</td>\n",
       "      <td>0.023066</td>\n",
       "      <td>0.001123</td>\n",
       "      <td>0.552002</td>\n",
       "      <td>0.183821</td>\n",
       "      <td>0.552002</td>\n",
       "      <td>0.084338</td>\n",
       "      <td>0.048006</td>\n",
       "      <td>0.014450</td>\n",
       "      <td>0.141906</td>\n",
       "      <td>0.036665</td>\n",
       "      <td>79.725777</td>\n",
       "      <td>35.0</td>\n",
       "    </tr>\n",
       "  </tbody>\n",
       "</table>\n",
       "</div>"
      ],
      "text/plain": [
       "      zlogz  c1_b0_mmdt  c1_b1_mmdt  c1_b2_mmdt  c2_b1_mmdt  c2_b2_mmdt  \\\n",
       "0 -2.935125    0.383155    0.005126    0.000084    0.009070    0.000179   \n",
       "1 -1.927335    0.270699    0.001585    0.000011    0.003232    0.000029   \n",
       "2 -3.112147    0.458171    0.097914    0.028588    0.124278    0.038487   \n",
       "3 -2.666515    0.437068    0.049122    0.007978    0.047477    0.004802   \n",
       "4 -2.484843    0.428981    0.041786    0.006110    0.023066    0.001123   \n",
       "\n",
       "   d2_b1_mmdt  d2_b2_mmdt  d2_a1_b1_mmdt  d2_a1_b2_mmdt  m2_b1_mmdt  \\\n",
       "0    1.769445    2.123898       1.769445       0.308185    0.135687   \n",
       "1    2.038834    2.563099       2.038834       0.211886    0.063729   \n",
       "2    1.269254    1.346238       1.269254       0.246488    0.115636   \n",
       "3    0.966505    0.601864       0.966505       0.160756    0.082196   \n",
       "4    0.552002    0.183821       0.552002       0.084338    0.048006   \n",
       "\n",
       "   m2_b2_mmdt  n2_b1_mmdt  n2_b2_mmdt   mass_mmdt  multiplicity  \n",
       "0    0.083278    0.412136    0.299058    8.926882          75.0  \n",
       "1    0.036310    0.310217    0.226661    3.886512          31.0  \n",
       "2    0.079094    0.357559    0.289220  162.144669          61.0  \n",
       "3    0.033311    0.238871    0.094516   91.258934          39.0  \n",
       "4    0.014450    0.141906    0.036665   79.725777          35.0  "
      ]
     },
     "metadata": {},
     "output_type": "display_data"
    },
    {
     "name": "stdout",
     "output_type": "stream",
     "text": [
      "\n",
      "First five labels (targets) in the data set\n"
     ]
    },
    {
     "data": {
      "text/html": [
       "<div>\n",
       "<style scoped>\n",
       "    .dataframe tbody tr th:only-of-type {\n",
       "        vertical-align: middle;\n",
       "    }\n",
       "\n",
       "    .dataframe tbody tr th {\n",
       "        vertical-align: top;\n",
       "    }\n",
       "\n",
       "    .dataframe thead th {\n",
       "        text-align: right;\n",
       "    }\n",
       "</style>\n",
       "<table border=\"1\" class=\"dataframe\">\n",
       "  <thead>\n",
       "    <tr style=\"text-align: right;\">\n",
       "      <th></th>\n",
       "      <th>class</th>\n",
       "    </tr>\n",
       "  </thead>\n",
       "  <tbody>\n",
       "    <tr>\n",
       "      <th>0</th>\n",
       "      <td>g</td>\n",
       "    </tr>\n",
       "    <tr>\n",
       "      <th>1</th>\n",
       "      <td>w</td>\n",
       "    </tr>\n",
       "    <tr>\n",
       "      <th>2</th>\n",
       "      <td>t</td>\n",
       "    </tr>\n",
       "    <tr>\n",
       "      <th>3</th>\n",
       "      <td>z</td>\n",
       "    </tr>\n",
       "    <tr>\n",
       "      <th>4</th>\n",
       "      <td>w</td>\n",
       "    </tr>\n",
       "  </tbody>\n",
       "</table>\n",
       "</div>"
      ],
      "text/plain": [
       "  class\n",
       "0     g\n",
       "1     w\n",
       "2     t\n",
       "3     z\n",
       "4     w"
      ]
     },
     "metadata": {},
     "output_type": "display_data"
    },
    {
     "name": "stdout",
     "output_type": "stream",
     "text": [
      "-----------------------------------\n"
     ]
    }
   ],
   "source": [
    "import pandas as pd\n",
    "print('-----------------------------------')\n",
    "print('\\nFirst five samples in the data set')\n",
    "display(pd.DataFrame(data=X[:5]))\n",
    "\n",
    "print('\\nFirst five labels (targets) in the data set')\n",
    "display(pd.DataFrame(data=y[:5]))\n",
    "print('-----------------------------------')"
   ]
  },
  {
   "cell_type": "markdown",
   "metadata": {},
   "source": [
    "We can visualize the data with [boxplots](https://en.wikipedia.org/wiki/Box_plot) and notice that the distribution of some of the features is larger than others. You can also plot the outliers with `showfliers=True`."
   ]
  },
  {
   "cell_type": "code",
   "execution_count": 8,
   "metadata": {},
   "outputs": [
    {
     "data": {
      "image/png": "[encoded data removed]",
      "text/plain": [
       "<Figure size 432x288 with 1 Axes>"
      ]
     },
     "metadata": {
      "needs_background": "light"
     },
     "output_type": "display_data"
    }
   ],
   "source": [
    "plt.boxplot(X, showfliers=False)\n",
    "_ = plt.xticks(np.arange(1, X.shape[1] + 1), data['feature_names'], rotation=30, ha=\"right\")"
   ]
  },
  {
   "cell_type": "markdown",
   "metadata": {},
   "source": [
    "### Preprocessing\n",
    "\n",
    "As you saw above, the `y` target is an array of strings, e.g. \\['g', 'w',...\\] etc.\n",
    "We need to make this a _One Hot encoding_ for the training phase."
   ]
  },
  {
   "cell_type": "code",
   "execution_count": 9,
   "metadata": {},
   "outputs": [
    {
     "name": "stdout",
     "output_type": "stream",
     "text": [
      "-----------------------------------\n",
      "0    g\n",
      "1    w\n",
      "2    t\n",
      "3    z\n",
      "4    w\n",
      "Name: class, dtype: category\n",
      "Categories (5, object): ['g', 'q', 'w', 'z', 't']\n",
      "-----------------------------------\n",
      "[0 3 2 4 3]\n",
      "-----------------------------------\n",
      "[[1. 0. 0. 0. 0.]\n",
      " [0. 0. 0. 1. 0.]\n",
      " [0. 0. 1. 0. 0.]\n",
      " [0. 0. 0. 0. 1.]\n",
      " [0. 0. 0. 1. 0.]]\n",
      "-----------------------------------\n"
     ]
    }
   ],
   "source": [
    "print('-----------------------------------')\n",
    "print(y[:5]) # Target labels\n",
    "print('-----------------------------------')\n",
    "le = LabelEncoder()\n",
    "y = le.fit_transform(y) # Encode target labels with values\n",
    "print(y[:5])\n",
    "print('-----------------------------------')\n",
    "y = to_categorical(y, 5) # Convert those values to one-hot encoding\n",
    "print(y[:5])\n",
    "print('-----------------------------------')"
   ]
  },
  {
   "cell_type": "markdown",
   "metadata": {},
   "source": [
    "Split the dataset into training (80% of the samples) and test (20%) sets."
   ]
  },
  {
   "cell_type": "code",
   "execution_count": 10,
   "metadata": {},
   "outputs": [
    {
     "name": "stdout",
     "output_type": "stream",
     "text": [
      "-----------------------------------\n",
      "*** Shape of the splitted arrays ***\n",
      "(664000, 16) (166000, 16) (664000, 5) (166000, 5)\n",
      "-----------------------------------\n"
     ]
    }
   ],
   "source": [
    "X_train_val, X_test, y_train_val, y_test = train_test_split(X, y, test_size=0.2, random_state=42)\n",
    "print('-----------------------------------')\n",
    "print('*** Shape of the splitted arrays ***')\n",
    "print(X_train_val.shape, X_test.shape, y_train_val.shape, y_test.shape)\n",
    "print('-----------------------------------')"
   ]
  },
  {
   "cell_type": "markdown",
   "metadata": {},
   "source": [
    "As we have done before, let's plot the boxplots for the training-validation set only."
   ]
  },
  {
   "cell_type": "code",
   "execution_count": 11,
   "metadata": {},
   "outputs": [
    {
     "data": {
      "image/png": "[encoded data removed]",
      "text/plain": [
       "<Figure size 432x288 with 1 Axes>"
      ]
     },
     "metadata": {
      "needs_background": "light"
     },
     "output_type": "display_data"
    }
   ],
   "source": [
    "plt.boxplot(X_train_val, showfliers=False)\n",
    "_ = plt.xticks(np.arange(1, X_train_val.shape[1] + 1), data['feature_names'], rotation=30, ha=\"right\")"
   ]
  },
  {
   "cell_type": "markdown",
   "metadata": {},
   "source": [
    "Preprocess the data `X` with the [StandardScaler](https://scikit-learn.org/stable/modules/generated/sklearn.preprocessing.StandardScaler.html)\n",
    "```\n",
    "Zi = (Xi - u) / s\n",
    "```\n",
    "where `u` is the mean of the training samples and `s` is the standard deviation of the training samples. The resulting will have a mean value (closer to) 0 and standard deviation of (closer to) 1."
   ]
  },
  {
   "cell_type": "code",
   "execution_count": 12,
   "metadata": {},
   "outputs": [],
   "source": [
    "scaler = StandardScaler()\n",
    "X_train_val = scaler.fit_transform(X_train_val)\n",
    "X_test = scaler.transform(X_test)"
   ]
  },
  {
   "cell_type": "markdown",
   "metadata": {},
   "source": [
    "Finally let's plot the boxplots for the training-validation set after the standard scaling."
   ]
  },
  {
   "cell_type": "code",
   "execution_count": 13,
   "metadata": {},
   "outputs": [
    {
     "data": {
      "image/png": "[encoded data removed]",
      "text/plain": [
       "<Figure size 432x288 with 1 Axes>"
      ]
     },
     "metadata": {
      "needs_background": "light"
     },
     "output_type": "display_data"
    }
   ],
   "source": [
    "plt.boxplot(X_train_val, showfliers=False)\n",
    "_ = plt.xticks(np.arange(1, X_train_val.shape[1] + 1), data['feature_names'], rotation=30, ha=\"right\")"
   ]
  },
  {
   "cell_type": "markdown",
   "metadata": {},
   "source": [
    "Save NumPy arrays to files for this notebooks and the next ones (so you do not have to run it again)."
   ]
  },
  {
   "cell_type": "code",
   "execution_count": 14,
   "metadata": {},
   "outputs": [],
   "source": [
    "np.save('X_train_val.npy', X_train_val)\n",
    "np.save('X_test.npy', X_test)\n",
    "np.save('y_train_val.npy', y_train_val)\n",
    "np.save('y_test.npy', y_test)\n",
    "np.save('classes.npy', le.classes_)"
   ]
  },
  {
   "cell_type": "markdown",
   "metadata": {},
   "source": [
    "### Construct the model\n",
    "\n",
    "Import additional [Keras](https://keras.io) packages. Keras is a deep learning API written in Python, running on top of the machine learning platform TensorFlow. It was developed with a focus on enabling fast experimentation."
   ]
  },
  {
   "cell_type": "code",
   "execution_count": 15,
   "metadata": {},
   "outputs": [],
   "source": [
    "from tensorflow.keras.models import Sequential\n",
    "from tensorflow.keras.layers import Dense, Activation, BatchNormalization\n",
    "from tensorflow.keras.optimizers import Adam\n",
    "from tensorflow.keras.regularizers import l1\n",
    "from callbacks import all_callbacks"
   ]
  },
  {
   "cell_type": "markdown",
   "metadata": {},
   "source": [
    "We create a simple _multi-layer perceptron (MLP)_ model. An MLP consists of at least three dense layers of nodes alternating with activation functions.\n",
    "\n",
    "- We use the [Sequential API](https://www.tensorflow.org/guide/keras/sequential_model) that is essentially a stack of layers, where each layer has exactly one input tensor and one output tensor. See also the [Functional API](https://www.tensorflow.org/guide/keras/functional).\n",
    "- We use _3_ hidden layers with _64_, then _32_, then _32_ neurons. See a plot of the model in the next few cell.\n",
    "- Each layer will use ReLU activation.\n",
    "- Add an output layer with _5_ neurons (one for each class), then finish with Softmax activation.\n",
    "- [Initializers](https://keras.io/api/layers/initializers) define the way to set the initial random weights of Keras layers. In this case, we choose [LecunUniform](https://www.tensorflow.org/api_docs/python/tf/keras/initializers/LecunUniform).\n",
    "- [Regularizers](https://keras.io/api/layers/regularizers) help to get models that generalize to new, unseen data (see the [overfitting problem](https://en.wikipedia.org/wiki/Overfitting)); the regularizes allow you to apply penalties on layer parameters or layer activity during optimization. These penalties are summed into the loss function that the network optimizes. In this case, we choose [L1 regularization](https://www.tensorflow.org/api_docs/python/tf/keras/regularizers/L1) that producer _sparse models_, i.e. model where unnecessary features are set to zero, thus do not contribute to the model predictive power."
   ]
  },
  {
   "cell_type": "code",
   "execution_count": 16,
   "metadata": {},
   "outputs": [
    {
     "name": "stderr",
     "output_type": "stream",
     "text": [
      "2022-03-26 22:09:41.183284: I tensorflow/core/platform/cpu_feature_guard.cc:142] This TensorFlow binary is optimized with oneAPI Deep Neural Network Library (oneDNN)to use the following CPU instructions in performance-critical operations:  AVX2 FMA\n",
      "To enable them in other operations, rebuild TensorFlow with the appropriate compiler flags.\n",
      "2022-03-26 22:09:41.207467: I tensorflow/core/platform/profile_utils/cpu_utils.cc:104] CPU Frequency: 2799925000 Hz\n",
      "2022-03-26 22:09:41.208393: I tensorflow/compiler/xla/service/service.cc:168] XLA service 0x55964cc7e9d0 initialized for platform Host (this does not guarantee that XLA will be used). Devices:\n",
      "2022-03-26 22:09:41.208408: I tensorflow/compiler/xla/service/service.cc:176]   StreamExecutor device (0): Host, Default Version\n"
     ]
    }
   ],
   "source": [
    "model = Sequential()\n",
    "model.add(Dense(64, input_shape=(16,), name='fc1', kernel_initializer='lecun_uniform', kernel_regularizer=l1(0.0001)))\n",
    "model.add(Activation(activation='relu', name='relu1'))\n",
    "model.add(Dense(32, name='fc2', kernel_initializer='lecun_uniform', kernel_regularizer=l1(0.0001)))\n",
    "model.add(Activation(activation='relu', name='relu2'))\n",
    "model.add(Dense(32, name='fc3', kernel_initializer='lecun_uniform', kernel_regularizer=l1(0.0001)))\n",
    "model.add(Activation(activation='relu', name='relu3'))\n",
    "model.add(Dense(5, name='output', kernel_initializer='lecun_uniform', kernel_regularizer=l1(0.0001)))\n",
    "model.add(Activation(activation='softmax', name='softmax'))"
   ]
  },
  {
   "cell_type": "markdown",
   "metadata": {},
   "source": [
    "Plot model. See this post on [How do you visualize neural network architectures?\n",
    "](https://datascience.stackexchange.com/questions/12851/how-do-you-visualize-neural-network-architectures)\n",
    "\n",
    "The question mark `?` or `None` is for the batch size that is unknown to the model."
   ]
  },
  {
   "cell_type": "code",
   "execution_count": 17,
   "metadata": {},
   "outputs": [
    {
     "data": {
      "image/png": "[encoded data removed]",
      "text/plain": [
       "<IPython.core.display.Image object>"
      ]
     },
     "execution_count": 17,
     "metadata": {},
     "output_type": "execute_result"
    }
   ],
   "source": [
    "tf.keras.utils.plot_model(model, to_file='model.png', show_shapes=True, show_layer_names=True)"
   ]
  },
  {
   "cell_type": "markdown",
   "metadata": {},
   "source": [
    "### Train the model\n",
    "If this is the first time you run the notebook `train = True`; if you've restarted the notebook kernel after training once, set `train = False` to load the trained model from file."
   ]
  },
  {
   "cell_type": "code",
   "execution_count": 18,
   "metadata": {},
   "outputs": [],
   "source": [
    "train = True"
   ]
  },
  {
   "cell_type": "markdown",
   "metadata": {},
   "source": [
    "Once the model is created, you can config the model with losses and metrics with `model.compile()`, train the model with `model.fit()`.\n",
    "- We use [Adam optimizer](https://keras.io/api/optimizers/adam) with [categorical crossentropy](https://www.tensorflow.org/api_docs/python/tf/keras/losses/CategoricalCrossentropy) loss.\n",
    "- We use [callbacks](https://www.tensorflow.org/api_docs/python/tf/keras/callbacks/Callback) that are utilities executed during training at some given stages of the training procedure. Callbacks can help you prevent overfitting, visualize training progress, debug your code, save checkpoints, generate logs etc. The callbacks will decay the learning rate and save the model into a directory `model_1`.\n",
    "- The model isn't very complex, so this should just take a few minutes even on the CPU."
   ]
  },
  {
   "cell_type": "code",
   "execution_count": 19,
   "metadata": {},
   "outputs": [
    {
     "name": "stdout",
     "output_type": "stream",
     "text": [
      "WARNING:tensorflow:`epsilon` argument is deprecated and will be removed, use `min_delta` instead.\n",
      "WARNING:tensorflow:`period` argument is deprecated. Please use `save_freq` to specify the frequency in number of batches seen.\n",
      "Epoch 1/30\n"
     ]
    },
    {
     "name": "stderr",
     "output_type": "stream",
     "text": [
      "2022-03-26 22:09:41.662965: I tensorflow/core/profiler/lib/profiler_session.cc:164] Profiler session started.\n"
     ]
    },
    {
     "name": "stdout",
     "output_type": "stream",
     "text": [
      "  1/487 [..............................] - ETA: 0s - loss: 1.6388 - accuracy: 0.3027WARNING:tensorflow:From /home/giuseppe/miniconda3/envs/hls4ml-tutorial-cu/lib/python3.8/site-packages/tensorflow/python/ops/summary_ops_v2.py:1277: stop (from tensorflow.python.eager.profiler) is deprecated and will be removed after 2020-07-01.\n",
      "Instructions for updating:\n",
      "use `tf.profiler.experimental.stop` instead.\n",
      "WARNING:tensorflow:Callbacks method `on_train_batch_end` is slow compared to the batch time (batch time: 0.0028s vs `on_train_batch_end` time: 0.0060s). Check your callbacks.\n",
      " 84/487 [====>.........................] - ETA: 0s - loss: 1.5772 - accuracy: 0.3475"
     ]
    },
    {
     "name": "stderr",
     "output_type": "stream",
     "text": [
      "2022-03-26 22:09:42.049951: I tensorflow/core/profiler/lib/profiler_session.cc:164] Profiler session started.\n",
      "2022-03-26 22:09:42.056041: I tensorflow/core/profiler/rpc/client/save_profile.cc:176] Creating directory: model_1/logs/train/plugins/profile/2022_03_26_22_09_42\n",
      "2022-03-26 22:09:42.056818: I tensorflow/core/profiler/rpc/client/save_profile.cc:182] Dumped gzipped tool data for trace.json.gz to model_1/logs/train/plugins/profile/2022_03_26_22_09_42/sam.trace.json.gz\n",
      "2022-03-26 22:09:42.058392: I tensorflow/core/profiler/rpc/client/save_profile.cc:176] Creating directory: model_1/logs/train/plugins/profile/2022_03_26_22_09_42\n",
      "2022-03-26 22:09:42.058431: I tensorflow/core/profiler/rpc/client/save_profile.cc:182] Dumped gzipped tool data for memory_profile.json.gz to model_1/logs/train/plugins/profile/2022_03_26_22_09_42/sam.memory_profile.json.gz\n",
      "2022-03-26 22:09:42.058591: I tensorflow/python/profiler/internal/profiler_wrapper.cc:111] Creating directory: model_1/logs/train/plugins/profile/2022_03_26_22_09_42Dumped tool data for xplane.pb to model_1/logs/train/plugins/profile/2022_03_26_22_09_42/sam.xplane.pb\n",
      "Dumped tool data for overview_page.pb to model_1/logs/train/plugins/profile/2022_03_26_22_09_42/sam.overview_page.pb\n",
      "Dumped tool data for input_pipeline.pb to model_1/logs/train/plugins/profile/2022_03_26_22_09_42/sam.input_pipeline.pb\n",
      "Dumped tool data for tensorflow_stats.pb to model_1/logs/train/plugins/profile/2022_03_26_22_09_42/sam.tensorflow_stats.pb\n",
      "Dumped tool data for kernel_stats.pb to model_1/logs/train/plugins/profile/2022_03_26_22_09_42/sam.kernel_stats.pb\n",
      "\n"
     ]
    },
    {
     "name": "stdout",
     "output_type": "stream",
     "text": [
      "484/487 [============================>.] - ETA: 0s - loss: 1.3301 - accuracy: 0.5155\n",
      "***callbacks***\n",
      "saving losses to model_1/losses.log\n",
      "\n",
      "Epoch 00001: val_loss improved from inf to 1.12515, saving model to model_1/KERAS_check_best_model.h5\n",
      "\n",
      "Epoch 00001: val_loss improved from inf to 1.12515, saving model to model_1/KERAS_check_best_model_weights.h5\n",
      "\n",
      "Epoch 00001: saving model to model_1/KERAS_check_model_last.h5\n",
      "\n",
      "Epoch 00001: saving model to model_1/KERAS_check_model_last_weights.h5\n",
      "\n",
      "***callbacks end***\n",
      "\n",
      "487/487 [==============================] - 1s 2ms/step - loss: 1.3290 - accuracy: 0.5161 - val_loss: 1.1252 - val_accuracy: 0.6363\n",
      "Epoch 2/30\n",
      "466/487 [===========================>..] - ETA: 0s - loss: 1.0574 - accuracy: 0.6658\n",
      "***callbacks***\n",
      "saving losses to model_1/losses.log\n",
      "\n",
      "Epoch 00002: val_loss improved from 1.12515 to 1.00706, saving model to model_1/KERAS_check_best_model.h5\n",
      "\n",
      "Epoch 00002: val_loss improved from 1.12515 to 1.00706, saving model to model_1/KERAS_check_best_model_weights.h5\n",
      "\n",
      "Epoch 00002: saving model to model_1/KERAS_check_model_last.h5\n",
      "\n",
      "Epoch 00002: saving model to model_1/KERAS_check_model_last_weights.h5\n",
      "\n",
      "***callbacks end***\n",
      "\n",
      "487/487 [==============================] - 1s 2ms/step - loss: 1.0550 - accuracy: 0.6668 - val_loss: 1.0071 - val_accuracy: 0.6900\n",
      "Epoch 3/30\n",
      "467/487 [===========================>..] - ETA: 0s - loss: 0.9724 - accuracy: 0.7001\n",
      "***callbacks***\n",
      "saving losses to model_1/losses.log\n",
      "\n",
      "Epoch 00003: val_loss improved from 1.00706 to 0.94499, saving model to model_1/KERAS_check_best_model.h5\n",
      "\n",
      "Epoch 00003: val_loss improved from 1.00706 to 0.94499, saving model to model_1/KERAS_check_best_model_weights.h5\n",
      "\n",
      "Epoch 00003: saving model to model_1/KERAS_check_model_last.h5\n",
      "\n",
      "Epoch 00003: saving model to model_1/KERAS_check_model_last_weights.h5\n",
      "\n",
      "***callbacks end***\n",
      "\n",
      "487/487 [==============================] - 1s 2ms/step - loss: 0.9712 - accuracy: 0.7004 - val_loss: 0.9450 - val_accuracy: 0.7098\n",
      "Epoch 4/30\n",
      "465/487 [===========================>..] - ETA: 0s - loss: 0.9188 - accuracy: 0.7143\n",
      "***callbacks***\n",
      "saving losses to model_1/losses.log\n",
      "\n",
      "Epoch 00004: val_loss improved from 0.94499 to 0.90047, saving model to model_1/KERAS_check_best_model.h5\n",
      "\n",
      "Epoch 00004: val_loss improved from 0.94499 to 0.90047, saving model to model_1/KERAS_check_best_model_weights.h5\n",
      "\n",
      "Epoch 00004: saving model to model_1/KERAS_check_model_last.h5\n",
      "\n",
      "Epoch 00004: saving model to model_1/KERAS_check_model_last_weights.h5\n",
      "\n",
      "***callbacks end***\n",
      "\n",
      "487/487 [==============================] - 1s 2ms/step - loss: 0.9183 - accuracy: 0.7143 - val_loss: 0.9005 - val_accuracy: 0.7187\n",
      "Epoch 5/30\n",
      "459/487 [===========================>..] - ETA: 0s - loss: 0.8833 - accuracy: 0.7210\n",
      "***callbacks***\n",
      "saving losses to model_1/losses.log\n",
      "\n",
      "Epoch 00005: val_loss improved from 0.90047 to 0.87249, saving model to model_1/KERAS_check_best_model.h5\n",
      "\n",
      "Epoch 00005: val_loss improved from 0.90047 to 0.87249, saving model to model_1/KERAS_check_best_model_weights.h5\n",
      "\n",
      "Epoch 00005: saving model to model_1/KERAS_check_model_last.h5\n",
      "\n",
      "Epoch 00005: saving model to model_1/KERAS_check_model_last_weights.h5\n",
      "\n",
      "***callbacks end***\n",
      "\n",
      "487/487 [==============================] - 1s 2ms/step - loss: 0.8823 - accuracy: 0.7214 - val_loss: 0.8725 - val_accuracy: 0.7242\n",
      "Epoch 6/30\n",
      "464/487 [===========================>..] - ETA: 0s - loss: 0.8593 - accuracy: 0.7258\n",
      "***callbacks***\n",
      "saving losses to model_1/losses.log\n",
      "\n",
      "Epoch 00006: val_loss improved from 0.87249 to 0.85483, saving model to model_1/KERAS_check_best_model.h5\n",
      "\n",
      "Epoch 00006: val_loss improved from 0.87249 to 0.85483, saving model to model_1/KERAS_check_best_model_weights.h5\n",
      "\n",
      "Epoch 00006: saving model to model_1/KERAS_check_model_last.h5\n",
      "\n",
      "Epoch 00006: saving model to model_1/KERAS_check_model_last_weights.h5\n",
      "\n",
      "***callbacks end***\n",
      "\n",
      "487/487 [==============================] - 1s 2ms/step - loss: 0.8595 - accuracy: 0.7259 - val_loss: 0.8548 - val_accuracy: 0.7273\n",
      "Epoch 7/30\n",
      "464/487 [===========================>..] - ETA: 0s - loss: 0.8443 - accuracy: 0.7293\n",
      "***callbacks***\n",
      "saving losses to model_1/losses.log\n",
      "\n",
      "Epoch 00007: val_loss improved from 0.85483 to 0.84188, saving model to model_1/KERAS_check_best_model.h5\n",
      "\n",
      "Epoch 00007: val_loss improved from 0.85483 to 0.84188, saving model to model_1/KERAS_check_best_model_weights.h5\n",
      "\n",
      "Epoch 00007: saving model to model_1/KERAS_check_model_last.h5\n",
      "\n",
      "Epoch 00007: saving model to model_1/KERAS_check_model_last_weights.h5\n",
      "\n",
      "***callbacks end***\n",
      "\n",
      "487/487 [==============================] - 1s 2ms/step - loss: 0.8441 - accuracy: 0.7293 - val_loss: 0.8419 - val_accuracy: 0.7306\n",
      "Epoch 8/30\n",
      "459/487 [===========================>..] - ETA: 0s - loss: 0.8339 - accuracy: 0.7316\n",
      "***callbacks***\n",
      "saving losses to model_1/losses.log\n",
      "\n",
      "Epoch 00008: val_loss improved from 0.84188 to 0.83223, saving model to model_1/KERAS_check_best_model.h5\n",
      "\n",
      "Epoch 00008: val_loss improved from 0.84188 to 0.83223, saving model to model_1/KERAS_check_best_model_weights.h5\n",
      "\n",
      "Epoch 00008: saving model to model_1/KERAS_check_model_last.h5\n",
      "\n",
      "Epoch 00008: saving model to model_1/KERAS_check_model_last_weights.h5\n",
      "\n",
      "***callbacks end***\n",
      "\n",
      "487/487 [==============================] - 1s 2ms/step - loss: 0.8328 - accuracy: 0.7320 - val_loss: 0.8322 - val_accuracy: 0.7324\n",
      "Epoch 9/30\n",
      "468/487 [===========================>..] - ETA: 0s - loss: 0.8239 - accuracy: 0.7342\n",
      "***callbacks***\n",
      "saving losses to model_1/losses.log\n",
      "\n",
      "Epoch 00009: val_loss improved from 0.83223 to 0.82372, saving model to model_1/KERAS_check_best_model.h5\n",
      "\n",
      "Epoch 00009: val_loss improved from 0.83223 to 0.82372, saving model to model_1/KERAS_check_best_model_weights.h5\n",
      "\n",
      "Epoch 00009: saving model to model_1/KERAS_check_model_last.h5\n",
      "\n",
      "Epoch 00009: saving model to model_1/KERAS_check_model_last_weights.h5\n",
      "\n",
      "***callbacks end***\n",
      "\n",
      "487/487 [==============================] - 1s 2ms/step - loss: 0.8235 - accuracy: 0.7343 - val_loss: 0.8237 - val_accuracy: 0.7347\n",
      "Epoch 10/30\n",
      "463/487 [===========================>..] - ETA: 0s - loss: 0.8151 - accuracy: 0.7367\n",
      "***callbacks***\n",
      "saving losses to model_1/losses.log\n",
      "\n",
      "Epoch 00010: val_loss improved from 0.82372 to 0.81607, saving model to model_1/KERAS_check_best_model.h5\n",
      "\n",
      "Epoch 00010: val_loss improved from 0.82372 to 0.81607, saving model to model_1/KERAS_check_best_model_weights.h5\n",
      "\n",
      "Epoch 00010: saving model to model_1/KERAS_check_model_last.h5\n",
      "\n",
      "Epoch 00010: saving model to model_1/KERAS_check_model_last_weights.h5\n",
      "\n",
      "Epoch 00010: saving model to model_1/KERAS_check_model_epoch10.h5\n",
      "\n",
      "***callbacks end***\n",
      "\n",
      "487/487 [==============================] - 1s 2ms/step - loss: 0.8155 - accuracy: 0.7365 - val_loss: 0.8161 - val_accuracy: 0.7368\n",
      "Epoch 11/30\n",
      "463/487 [===========================>..] - ETA: 0s - loss: 0.8086 - accuracy: 0.7382\n",
      "***callbacks***\n",
      "saving losses to model_1/losses.log\n",
      "\n",
      "Epoch 00011: val_loss improved from 0.81607 to 0.80993, saving model to model_1/KERAS_check_best_model.h5\n",
      "\n",
      "Epoch 00011: val_loss improved from 0.81607 to 0.80993, saving model to model_1/KERAS_check_best_model_weights.h5\n",
      "\n",
      "Epoch 00011: saving model to model_1/KERAS_check_model_last.h5\n",
      "\n",
      "Epoch 00011: saving model to model_1/KERAS_check_model_last_weights.h5\n",
      "\n",
      "***callbacks end***\n",
      "\n",
      "487/487 [==============================] - 1s 2ms/step - loss: 0.8084 - accuracy: 0.7382 - val_loss: 0.8099 - val_accuracy: 0.7381\n",
      "Epoch 12/30\n",
      "466/487 [===========================>..] - ETA: 0s - loss: 0.8023 - accuracy: 0.7398\n",
      "***callbacks***\n",
      "saving losses to model_1/losses.log\n",
      "\n",
      "Epoch 00012: val_loss improved from 0.80993 to 0.80385, saving model to model_1/KERAS_check_best_model.h5\n",
      "\n",
      "Epoch 00012: val_loss improved from 0.80993 to 0.80385, saving model to model_1/KERAS_check_best_model_weights.h5\n",
      "\n",
      "Epoch 00012: saving model to model_1/KERAS_check_model_last.h5\n",
      "\n",
      "Epoch 00012: saving model to model_1/KERAS_check_model_last_weights.h5\n",
      "\n",
      "***callbacks end***\n",
      "\n",
      "487/487 [==============================] - 1s 2ms/step - loss: 0.8023 - accuracy: 0.7399 - val_loss: 0.8039 - val_accuracy: 0.7401\n",
      "Epoch 13/30\n",
      "469/487 [===========================>..] - ETA: 0s - loss: 0.7970 - accuracy: 0.7413\n",
      "***callbacks***\n",
      "saving losses to model_1/losses.log\n",
      "\n",
      "Epoch 00013: val_loss improved from 0.80385 to 0.79875, saving model to model_1/KERAS_check_best_model.h5\n",
      "\n",
      "Epoch 00013: val_loss improved from 0.80385 to 0.79875, saving model to model_1/KERAS_check_best_model_weights.h5\n",
      "\n",
      "Epoch 00013: saving model to model_1/KERAS_check_model_last.h5\n",
      "\n",
      "Epoch 00013: saving model to model_1/KERAS_check_model_last_weights.h5\n",
      "\n",
      "***callbacks end***\n",
      "\n",
      "487/487 [==============================] - 1s 2ms/step - loss: 0.7967 - accuracy: 0.7413 - val_loss: 0.7987 - val_accuracy: 0.7415\n"
     ]
    },
    {
     "name": "stdout",
     "output_type": "stream",
     "text": [
      "Epoch 14/30\n",
      "462/487 [===========================>..] - ETA: 0s - loss: 0.7924 - accuracy: 0.7426\n",
      "***callbacks***\n",
      "saving losses to model_1/losses.log\n",
      "\n",
      "Epoch 00014: val_loss improved from 0.79875 to 0.79464, saving model to model_1/KERAS_check_best_model.h5\n",
      "\n",
      "Epoch 00014: val_loss improved from 0.79875 to 0.79464, saving model to model_1/KERAS_check_best_model_weights.h5\n",
      "\n",
      "Epoch 00014: saving model to model_1/KERAS_check_model_last.h5\n",
      "\n",
      "Epoch 00014: saving model to model_1/KERAS_check_model_last_weights.h5\n",
      "\n",
      "***callbacks end***\n",
      "\n",
      "487/487 [==============================] - 1s 2ms/step - loss: 0.7921 - accuracy: 0.7427 - val_loss: 0.7946 - val_accuracy: 0.7423\n",
      "Epoch 15/30\n",
      "470/487 [===========================>..] - ETA: 0s - loss: 0.7885 - accuracy: 0.7436\n",
      "***callbacks***\n",
      "saving losses to model_1/losses.log\n",
      "\n",
      "Epoch 00015: val_loss improved from 0.79464 to 0.79088, saving model to model_1/KERAS_check_best_model.h5\n",
      "\n",
      "Epoch 00015: val_loss improved from 0.79464 to 0.79088, saving model to model_1/KERAS_check_best_model_weights.h5\n",
      "\n",
      "Epoch 00015: saving model to model_1/KERAS_check_model_last.h5\n",
      "\n",
      "Epoch 00015: saving model to model_1/KERAS_check_model_last_weights.h5\n",
      "\n",
      "***callbacks end***\n",
      "\n",
      "487/487 [==============================] - 1s 2ms/step - loss: 0.7881 - accuracy: 0.7438 - val_loss: 0.7909 - val_accuracy: 0.7435\n",
      "Epoch 16/30\n",
      "474/487 [============================>.] - ETA: 0s - loss: 0.7845 - accuracy: 0.7449\n",
      "***callbacks***\n",
      "saving losses to model_1/losses.log\n",
      "\n",
      "Epoch 00016: val_loss improved from 0.79088 to 0.78754, saving model to model_1/KERAS_check_best_model.h5\n",
      "\n",
      "Epoch 00016: val_loss improved from 0.79088 to 0.78754, saving model to model_1/KERAS_check_best_model_weights.h5\n",
      "\n",
      "Epoch 00016: saving model to model_1/KERAS_check_model_last.h5\n",
      "\n",
      "Epoch 00016: saving model to model_1/KERAS_check_model_last_weights.h5\n",
      "\n",
      "***callbacks end***\n",
      "\n",
      "487/487 [==============================] - 1s 2ms/step - loss: 0.7846 - accuracy: 0.7449 - val_loss: 0.7875 - val_accuracy: 0.7440\n",
      "Epoch 17/30\n",
      "462/487 [===========================>..] - ETA: 0s - loss: 0.7814 - accuracy: 0.7458\n",
      "***callbacks***\n",
      "saving losses to model_1/losses.log\n",
      "\n",
      "Epoch 00017: val_loss improved from 0.78754 to 0.78483, saving model to model_1/KERAS_check_best_model.h5\n",
      "\n",
      "Epoch 00017: val_loss improved from 0.78754 to 0.78483, saving model to model_1/KERAS_check_best_model_weights.h5\n",
      "\n",
      "Epoch 00017: saving model to model_1/KERAS_check_model_last.h5\n",
      "\n",
      "Epoch 00017: saving model to model_1/KERAS_check_model_last_weights.h5\n",
      "\n",
      "***callbacks end***\n",
      "\n",
      "487/487 [==============================] - 1s 2ms/step - loss: 0.7814 - accuracy: 0.7458 - val_loss: 0.7848 - val_accuracy: 0.7453\n",
      "Epoch 18/30\n",
      "469/487 [===========================>..] - ETA: 0s - loss: 0.7780 - accuracy: 0.7470\n",
      "***callbacks***\n",
      "saving losses to model_1/losses.log\n",
      "\n",
      "Epoch 00018: val_loss improved from 0.78483 to 0.78177, saving model to model_1/KERAS_check_best_model.h5\n",
      "\n",
      "Epoch 00018: val_loss improved from 0.78483 to 0.78177, saving model to model_1/KERAS_check_best_model_weights.h5\n",
      "\n",
      "Epoch 00018: saving model to model_1/KERAS_check_model_last.h5\n",
      "\n",
      "Epoch 00018: saving model to model_1/KERAS_check_model_last_weights.h5\n",
      "\n",
      "***callbacks end***\n",
      "\n",
      "487/487 [==============================] - 1s 2ms/step - loss: 0.7785 - accuracy: 0.7468 - val_loss: 0.7818 - val_accuracy: 0.7462\n",
      "Epoch 19/30\n",
      "468/487 [===========================>..] - ETA: 0s - loss: 0.7763 - accuracy: 0.7474\n",
      "***callbacks***\n",
      "saving losses to model_1/losses.log\n",
      "\n",
      "Epoch 00019: val_loss improved from 0.78177 to 0.77963, saving model to model_1/KERAS_check_best_model.h5\n",
      "\n",
      "Epoch 00019: val_loss improved from 0.78177 to 0.77963, saving model to model_1/KERAS_check_best_model_weights.h5\n",
      "\n",
      "Epoch 00019: saving model to model_1/KERAS_check_model_last.h5\n",
      "\n",
      "Epoch 00019: saving model to model_1/KERAS_check_model_last_weights.h5\n",
      "\n",
      "***callbacks end***\n",
      "\n",
      "487/487 [==============================] - 1s 2ms/step - loss: 0.7758 - accuracy: 0.7476 - val_loss: 0.7796 - val_accuracy: 0.7464\n",
      "Epoch 20/30\n",
      "471/487 [============================>.] - ETA: 0s - loss: 0.7737 - accuracy: 0.7481\n",
      "***callbacks***\n",
      "saving losses to model_1/losses.log\n",
      "\n",
      "Epoch 00020: val_loss improved from 0.77963 to 0.77720, saving model to model_1/KERAS_check_best_model.h5\n",
      "\n",
      "Epoch 00020: val_loss improved from 0.77963 to 0.77720, saving model to model_1/KERAS_check_best_model_weights.h5\n",
      "\n",
      "Epoch 00020: saving model to model_1/KERAS_check_model_last.h5\n",
      "\n",
      "Epoch 00020: saving model to model_1/KERAS_check_model_last_weights.h5\n",
      "\n",
      "Epoch 00020: saving model to model_1/KERAS_check_model_epoch20.h5\n",
      "\n",
      "***callbacks end***\n",
      "\n",
      "487/487 [==============================] - 1s 2ms/step - loss: 0.7734 - accuracy: 0.7481 - val_loss: 0.7772 - val_accuracy: 0.7473\n",
      "Epoch 21/30\n",
      "474/487 [============================>.] - ETA: 0s - loss: 0.7714 - accuracy: 0.7485\n",
      "***callbacks***\n",
      "saving losses to model_1/losses.log\n",
      "\n",
      "Epoch 00021: val_loss improved from 0.77720 to 0.77506, saving model to model_1/KERAS_check_best_model.h5\n",
      "\n",
      "Epoch 00021: val_loss improved from 0.77720 to 0.77506, saving model to model_1/KERAS_check_best_model_weights.h5\n",
      "\n",
      "Epoch 00021: saving model to model_1/KERAS_check_model_last.h5\n",
      "\n",
      "Epoch 00021: saving model to model_1/KERAS_check_model_last_weights.h5\n",
      "\n",
      "***callbacks end***\n",
      "\n",
      "487/487 [==============================] - 1s 2ms/step - loss: 0.7712 - accuracy: 0.7486 - val_loss: 0.7751 - val_accuracy: 0.7478\n",
      "Epoch 22/30\n",
      "468/487 [===========================>..] - ETA: 0s - loss: 0.7695 - accuracy: 0.7489\n",
      "***callbacks***\n",
      "saving losses to model_1/losses.log\n",
      "\n",
      "Epoch 00022: val_loss improved from 0.77506 to 0.77335, saving model to model_1/KERAS_check_best_model.h5\n",
      "\n",
      "Epoch 00022: val_loss improved from 0.77506 to 0.77335, saving model to model_1/KERAS_check_best_model_weights.h5\n",
      "\n",
      "Epoch 00022: saving model to model_1/KERAS_check_model_last.h5\n",
      "\n",
      "Epoch 00022: saving model to model_1/KERAS_check_model_last_weights.h5\n",
      "\n",
      "***callbacks end***\n",
      "\n",
      "487/487 [==============================] - 1s 2ms/step - loss: 0.7691 - accuracy: 0.7489 - val_loss: 0.7733 - val_accuracy: 0.7484\n",
      "Epoch 23/30\n",
      "466/487 [===========================>..] - ETA: 0s - loss: 0.7674 - accuracy: 0.7496\n",
      "***callbacks***\n",
      "saving losses to model_1/losses.log\n",
      "\n",
      "Epoch 00023: val_loss improved from 0.77335 to 0.77148, saving model to model_1/KERAS_check_best_model.h5\n",
      "\n",
      "Epoch 00023: val_loss improved from 0.77335 to 0.77148, saving model to model_1/KERAS_check_best_model_weights.h5\n",
      "\n",
      "Epoch 00023: saving model to model_1/KERAS_check_model_last.h5\n",
      "\n",
      "Epoch 00023: saving model to model_1/KERAS_check_model_last_weights.h5\n",
      "\n",
      "***callbacks end***\n",
      "\n",
      "487/487 [==============================] - 1s 2ms/step - loss: 0.7671 - accuracy: 0.7496 - val_loss: 0.7715 - val_accuracy: 0.7486\n",
      "Epoch 24/30\n",
      "459/487 [===========================>..] - ETA: 0s - loss: 0.7650 - accuracy: 0.7502\n",
      "***callbacks***\n",
      "saving losses to model_1/losses.log\n",
      "\n",
      "Epoch 00024: val_loss improved from 0.77148 to 0.76954, saving model to model_1/KERAS_check_best_model.h5\n",
      "\n",
      "Epoch 00024: val_loss improved from 0.77148 to 0.76954, saving model to model_1/KERAS_check_best_model_weights.h5\n",
      "\n",
      "Epoch 00024: saving model to model_1/KERAS_check_model_last.h5\n",
      "\n",
      "Epoch 00024: saving model to model_1/KERAS_check_model_last_weights.h5\n",
      "\n",
      "***callbacks end***\n",
      "\n",
      "487/487 [==============================] - 1s 2ms/step - loss: 0.7653 - accuracy: 0.7500 - val_loss: 0.7695 - val_accuracy: 0.7493\n",
      "Epoch 25/30\n",
      "467/487 [===========================>..] - ETA: 0s - loss: 0.7636 - accuracy: 0.7504\n",
      "***callbacks***\n",
      "saving losses to model_1/losses.log\n",
      "\n",
      "Epoch 00025: val_loss improved from 0.76954 to 0.76789, saving model to model_1/KERAS_check_best_model.h5\n",
      "\n",
      "Epoch 00025: val_loss improved from 0.76954 to 0.76789, saving model to model_1/KERAS_check_best_model_weights.h5\n",
      "\n",
      "Epoch 00025: saving model to model_1/KERAS_check_model_last.h5\n",
      "\n",
      "Epoch 00025: saving model to model_1/KERAS_check_model_last_weights.h5\n",
      "\n",
      "***callbacks end***\n",
      "\n",
      "487/487 [==============================] - 1s 2ms/step - loss: 0.7635 - accuracy: 0.7505 - val_loss: 0.7679 - val_accuracy: 0.7493\n",
      "Epoch 26/30\n",
      "464/487 [===========================>..] - ETA: 0s - loss: 0.7617 - accuracy: 0.7510\n",
      "***callbacks***\n",
      "saving losses to model_1/losses.log\n",
      "\n",
      "Epoch 00026: val_loss improved from 0.76789 to 0.76631, saving model to model_1/KERAS_check_best_model.h5\n",
      "\n",
      "Epoch 00026: val_loss improved from 0.76789 to 0.76631, saving model to model_1/KERAS_check_best_model_weights.h5\n",
      "\n",
      "Epoch 00026: saving model to model_1/KERAS_check_model_last.h5\n",
      "\n",
      "Epoch 00026: saving model to model_1/KERAS_check_model_last_weights.h5\n",
      "\n",
      "***callbacks end***\n",
      "\n",
      "487/487 [==============================] - 1s 2ms/step - loss: 0.7619 - accuracy: 0.7510 - val_loss: 0.7663 - val_accuracy: 0.7501\n"
     ]
    },
    {
     "name": "stdout",
     "output_type": "stream",
     "text": [
      "Epoch 27/30\n",
      "462/487 [===========================>..] - ETA: 0s - loss: 0.7602 - accuracy: 0.7513\n",
      "***callbacks***\n",
      "saving losses to model_1/losses.log\n",
      "\n",
      "Epoch 00027: val_loss improved from 0.76631 to 0.76468, saving model to model_1/KERAS_check_best_model.h5\n",
      "\n",
      "Epoch 00027: val_loss improved from 0.76631 to 0.76468, saving model to model_1/KERAS_check_best_model_weights.h5\n",
      "\n",
      "Epoch 00027: saving model to model_1/KERAS_check_model_last.h5\n",
      "\n",
      "Epoch 00027: saving model to model_1/KERAS_check_model_last_weights.h5\n",
      "\n",
      "***callbacks end***\n",
      "\n",
      "487/487 [==============================] - 1s 2ms/step - loss: 0.7602 - accuracy: 0.7514 - val_loss: 0.7647 - val_accuracy: 0.7502\n",
      "Epoch 28/30\n",
      "463/487 [===========================>..] - ETA: 0s - loss: 0.7588 - accuracy: 0.7516\n",
      "***callbacks***\n",
      "saving losses to model_1/losses.log\n",
      "\n",
      "Epoch 00028: val_loss improved from 0.76468 to 0.76357, saving model to model_1/KERAS_check_best_model.h5\n",
      "\n",
      "Epoch 00028: val_loss improved from 0.76468 to 0.76357, saving model to model_1/KERAS_check_best_model_weights.h5\n",
      "\n",
      "Epoch 00028: saving model to model_1/KERAS_check_model_last.h5\n",
      "\n",
      "Epoch 00028: saving model to model_1/KERAS_check_model_last_weights.h5\n",
      "\n",
      "***callbacks end***\n",
      "\n",
      "487/487 [==============================] - 1s 2ms/step - loss: 0.7587 - accuracy: 0.7517 - val_loss: 0.7636 - val_accuracy: 0.7507\n",
      "Epoch 29/30\n",
      "466/487 [===========================>..] - ETA: 0s - loss: 0.7572 - accuracy: 0.7522\n",
      "***callbacks***\n",
      "saving losses to model_1/losses.log\n",
      "\n",
      "Epoch 00029: val_loss improved from 0.76357 to 0.76172, saving model to model_1/KERAS_check_best_model.h5\n",
      "\n",
      "Epoch 00029: val_loss improved from 0.76357 to 0.76172, saving model to model_1/KERAS_check_best_model_weights.h5\n",
      "\n",
      "Epoch 00029: saving model to model_1/KERAS_check_model_last.h5\n",
      "\n",
      "Epoch 00029: saving model to model_1/KERAS_check_model_last_weights.h5\n",
      "\n",
      "***callbacks end***\n",
      "\n",
      "487/487 [==============================] - 1s 2ms/step - loss: 0.7572 - accuracy: 0.7520 - val_loss: 0.7617 - val_accuracy: 0.7511\n",
      "Epoch 30/30\n",
      "469/487 [===========================>..] - ETA: 0s - loss: 0.7562 - accuracy: 0.7521\n",
      "***callbacks***\n",
      "saving losses to model_1/losses.log\n",
      "\n",
      "Epoch 00030: val_loss improved from 0.76172 to 0.76025, saving model to model_1/KERAS_check_best_model.h5\n",
      "\n",
      "Epoch 00030: val_loss improved from 0.76172 to 0.76025, saving model to model_1/KERAS_check_best_model_weights.h5\n",
      "\n",
      "Epoch 00030: saving model to model_1/KERAS_check_model_last.h5\n",
      "\n",
      "Epoch 00030: saving model to model_1/KERAS_check_model_last_weights.h5\n",
      "\n",
      "Epoch 00030: saving model to model_1/KERAS_check_model_epoch30.h5\n",
      "\n",
      "***callbacks end***\n",
      "\n",
      "487/487 [==============================] - 1s 2ms/step - loss: 0.7558 - accuracy: 0.7523 - val_loss: 0.7603 - val_accuracy: 0.7514\n"
     ]
    }
   ],
   "source": [
    "if train:\n",
    "    adam = Adam(lr=0.0001)\n",
    "    model.compile(optimizer=adam, loss=['categorical_crossentropy'], metrics=['accuracy'])\n",
    "    callbacks = all_callbacks(stop_patience = 1000,\n",
    "                              lr_factor = 0.5,\n",
    "                              lr_patience = 10,\n",
    "                              lr_epsilon = 0.000001,\n",
    "                              lr_cooldown = 2,\n",
    "                              lr_minimum = 0.0000001,\n",
    "                              outputDir = 'model_1')\n",
    "    model.fit(X_train_val, y_train_val, batch_size=1024,\n",
    "              epochs=30, validation_split=0.25, shuffle=True,\n",
    "              callbacks = callbacks.callbacks)\n",
    "else:\n",
    "    from tensorflow.keras.models import load_model\n",
    "    model = load_model('model_1/KERAS_check_best_model.h5')"
   ]
  },
  {
   "cell_type": "markdown",
   "metadata": {},
   "source": [
    "### Check performance\n",
    "Check the accuracy."
   ]
  },
  {
   "cell_type": "code",
   "execution_count": 20,
   "metadata": {},
   "outputs": [
    {
     "name": "stdout",
     "output_type": "stream",
     "text": [
      "-----------------------------------\n",
      "Keras Accuracy:  0.7502650602409638\n",
      "-----------------------------------\n"
     ]
    }
   ],
   "source": [
    "y_keras = model.predict(X_test)\n",
    "\n",
    "from sklearn.metrics import accuracy_score\n",
    "print('-----------------------------------')\n",
    "print(\"Keras Accuracy:  {}\".format(accuracy_score(np.argmax(y_test, axis=1), np.argmax(y_keras, axis=1))))\n",
    "print('-----------------------------------')"
   ]
  },
  {
   "cell_type": "markdown",
   "metadata": {},
   "source": [
    "Accuracy may be _not_ the best or only metric that you should consider when you are dealing with a classification problem, expecially with a skewed dataset.\n",
    "\n",
    "A [confusion matrix]() is the a tool that you can use to get a better understanding of how a classifier perform.\n",
    "\n",
    "<!--![confusion_matrix](images/confusion_matrix.png \"Confusion Matrix\")-->\n",
    "<img src=\"images/confusion_matrix.png\" style=\"width:600px; float:left;\">"
   ]
  },
  {
   "cell_type": "code",
   "execution_count": 21,
   "metadata": {},
   "outputs": [
    {
     "data": {
      "image/png": "[encoded data removed]",
      "text/plain": [
       "<Figure size 648x648 with 2 Axes>"
      ]
     },
     "metadata": {
      "needs_background": "light"
     },
     "output_type": "display_data"
    }
   ],
   "source": [
    "import plotting # Import local package plotting.py\n",
    "from sklearn.metrics import confusion_matrix\n",
    "cm = confusion_matrix(y_true=np.argmax(y_test, axis=1), y_pred=np.argmax(y_keras, axis=1))\n",
    "plt.figure(figsize=(9,9))\n",
    "_ = plotting.plot_confusion_matrix(cm, le.classes_)"
   ]
  },
  {
   "cell_type": "markdown",
   "metadata": {},
   "source": [
    "Another tool that you can use is the [ROC curve](https://developers.google.com/machine-learning/crash-course/classification/roc-and-auc).\n",
    "\n",
    "A ROC curve (typically) features true positive rate (TPR) on the vertical axis, and false positive rate (FPR) on the horizzontal axis. The top left corner of the plot is the _ideal_ point - a FPR rate of zero, and a TPR of one. This also mean that a larger area under the curve (AUC) is usually better"
   ]
  },
  {
   "cell_type": "code",
   "execution_count": 22,
   "metadata": {},
   "outputs": [
    {
     "data": {
      "image/png": "[encoded data removed]",
      "text/plain": [
       "<Figure size 648x648 with 1 Axes>"
      ]
     },
     "metadata": {
      "needs_background": "light"
     },
     "output_type": "display_data"
    }
   ],
   "source": [
    "plt.figure(figsize=(9,9))\n",
    "_ = plotting.plotMultiClassRoc(y_test, y_keras, le.classes_)"
   ]
  },
  {
   "cell_type": "markdown",
   "metadata": {},
   "source": [
    "## Convert the model to FPGA firmware with hls4ml\n",
    "\n",
    "<img src=\"images/convert.png\" style=\"width:600px\">\n",
    "\n",
    "Now we will go through the steps to convert the model we trained to a low-latency optimized FPGA firmware with hls4ml.\n",
    "- First, we will evaluate its classification performance to make sure we haven't lost accuracy using the fixed-point data types. \n",
    "- Then we will synthesize the model with Vivado HLS and check the metrics of latency and FPGA resource usage.\n",
    "\n",
    "hls4ml comes with a [Python API](https://fastmachinelearning.org/hls4ml) so all of the next steps will be run through the notebook and that includes HLS."
   ]
  },
  {
   "cell_type": "code",
   "execution_count": 23,
   "metadata": {},
   "outputs": [
    {
     "ename": "AttributeError",
     "evalue": "module 'tensorflow.keras.layers' has no attribute 'MultiHeadAttention'",
     "output_type": "error",
     "traceback": [
      "\u001b[0;31m---------------------------------------------------------------------------\u001b[0m",
      "\u001b[0;31mAttributeError\u001b[0m                            Traceback (most recent call last)",
      "Input \u001b[0;32mIn [23]\u001b[0m, in \u001b[0;36m<cell line: 2>\u001b[0;34m()\u001b[0m\n\u001b[1;32m      1\u001b[0m \u001b[38;5;66;03m# Let's import hls4ml package!\u001b[39;00m\n\u001b[0;32m----> 2\u001b[0m \u001b[38;5;28;01mimport\u001b[39;00m \u001b[38;5;21;01mhls4ml\u001b[39;00m\n",
      "File \u001b[0;32m~/miniconda3/envs/hls4ml-tutorial-cu/lib/python3.8/site-packages/hls4ml/__init__.py:5\u001b[0m, in \u001b[0;36m<module>\u001b[0;34m\u001b[0m\n\u001b[1;32m      1\u001b[0m \u001b[38;5;28;01mfrom\u001b[39;00m \u001b[38;5;21;01m__future__\u001b[39;00m \u001b[38;5;28;01mimport\u001b[39;00m absolute_import\n\u001b[1;32m      3\u001b[0m __version__ \u001b[38;5;241m=\u001b[39m \u001b[38;5;124m'\u001b[39m\u001b[38;5;124m0.6.0\u001b[39m\u001b[38;5;124m'\u001b[39m\n\u001b[0;32m----> 5\u001b[0m \u001b[38;5;28;01mfrom\u001b[39;00m \u001b[38;5;21;01mhls4ml\u001b[39;00m \u001b[38;5;28;01mimport\u001b[39;00m converters\n\u001b[1;32m      6\u001b[0m \u001b[38;5;28;01mfrom\u001b[39;00m \u001b[38;5;21;01mhls4ml\u001b[39;00m \u001b[38;5;28;01mimport\u001b[39;00m report\n\u001b[1;32m      7\u001b[0m \u001b[38;5;28;01mfrom\u001b[39;00m \u001b[38;5;21;01mhls4ml\u001b[39;00m \u001b[38;5;28;01mimport\u001b[39;00m utils\n",
      "File \u001b[0;32m~/miniconda3/envs/hls4ml-tutorial-cu/lib/python3.8/site-packages/hls4ml/converters/__init__.py:9\u001b[0m, in \u001b[0;36m<module>\u001b[0;34m\u001b[0m\n\u001b[1;32m      5\u001b[0m \u001b[38;5;28;01mimport\u001b[39;00m \u001b[38;5;21;01mwarnings\u001b[39;00m\n\u001b[1;32m      7\u001b[0m \u001b[38;5;28;01mfrom\u001b[39;00m \u001b[38;5;21;01mhls4ml\u001b[39;00m\u001b[38;5;21;01m.\u001b[39;00m\u001b[38;5;21;01mutils\u001b[39;00m\u001b[38;5;21;01m.\u001b[39;00m\u001b[38;5;21;01mconfig\u001b[39;00m \u001b[38;5;28;01mimport\u001b[39;00m create_config\n\u001b[0;32m----> 9\u001b[0m \u001b[38;5;28;01mfrom\u001b[39;00m \u001b[38;5;21;01mhls4ml\u001b[39;00m\u001b[38;5;21;01m.\u001b[39;00m\u001b[38;5;21;01mconverters\u001b[39;00m\u001b[38;5;21;01m.\u001b[39;00m\u001b[38;5;21;01mkeras_to_hls\u001b[39;00m \u001b[38;5;28;01mimport\u001b[39;00m keras_to_hls, get_supported_keras_layers, register_keras_layer_handler\n\u001b[1;32m     11\u001b[0m \u001b[38;5;66;03m#----------Make converters available if the libraries can be imported----------#       \u001b[39;00m\n\u001b[1;32m     12\u001b[0m \u001b[38;5;28;01mtry\u001b[39;00m:\n",
      "File \u001b[0;32m~/miniconda3/envs/hls4ml-tutorial-cu/lib/python3.8/site-packages/hls4ml/converters/keras_to_hls.py:7\u001b[0m, in \u001b[0;36m<module>\u001b[0;34m\u001b[0m\n\u001b[1;32m      4\u001b[0m \u001b[38;5;28;01mimport\u001b[39;00m \u001b[38;5;21;01mjson\u001b[39;00m\n\u001b[1;32m      5\u001b[0m \u001b[38;5;28;01mimport\u001b[39;00m \u001b[38;5;21;01mmath\u001b[39;00m\n\u001b[0;32m----> 7\u001b[0m \u001b[38;5;28;01mfrom\u001b[39;00m \u001b[38;5;21;01mhls4ml\u001b[39;00m\u001b[38;5;21;01m.\u001b[39;00m\u001b[38;5;21;01mmodel\u001b[39;00m \u001b[38;5;28;01mimport\u001b[39;00m HLSModel\n\u001b[1;32m      9\u001b[0m MAXMULT \u001b[38;5;241m=\u001b[39m \u001b[38;5;241m4096\u001b[39m\n\u001b[1;32m     11\u001b[0m \u001b[38;5;28;01mclass\u001b[39;00m \u001b[38;5;21;01mKerasFileReader\u001b[39;00m(\u001b[38;5;28mobject\u001b[39m):\n",
      "File \u001b[0;32m~/miniconda3/envs/hls4ml-tutorial-cu/lib/python3.8/site-packages/hls4ml/model/__init__.py:3\u001b[0m, in \u001b[0;36m<module>\u001b[0;34m\u001b[0m\n\u001b[1;32m      1\u001b[0m \u001b[38;5;28;01mfrom\u001b[39;00m \u001b[38;5;21;01m__future__\u001b[39;00m \u001b[38;5;28;01mimport\u001b[39;00m absolute_import\n\u001b[0;32m----> 3\u001b[0m \u001b[38;5;28;01mfrom\u001b[39;00m \u001b[38;5;21;01mhls4ml\u001b[39;00m\u001b[38;5;21;01m.\u001b[39;00m\u001b[38;5;21;01mmodel\u001b[39;00m\u001b[38;5;21;01m.\u001b[39;00m\u001b[38;5;21;01mhls_model\u001b[39;00m \u001b[38;5;28;01mimport\u001b[39;00m HLSModel, HLSConfig\n\u001b[1;32m      5\u001b[0m \u001b[38;5;28;01mtry\u001b[39;00m:\n\u001b[1;32m      6\u001b[0m     \u001b[38;5;28;01mfrom\u001b[39;00m \u001b[38;5;21;01mhls4ml\u001b[39;00m\u001b[38;5;21;01m.\u001b[39;00m\u001b[38;5;21;01mmodel\u001b[39;00m \u001b[38;5;28;01mimport\u001b[39;00m profiling\n",
      "File \u001b[0;32m~/miniconda3/envs/hls4ml-tutorial-cu/lib/python3.8/site-packages/hls4ml/model/hls_model.py:15\u001b[0m, in \u001b[0;36m<module>\u001b[0;34m\u001b[0m\n\u001b[1;32m     13\u001b[0m \u001b[38;5;28;01mfrom\u001b[39;00m \u001b[38;5;21;01mhls4ml\u001b[39;00m\u001b[38;5;21;01m.\u001b[39;00m\u001b[38;5;21;01mtemplates\u001b[39;00m \u001b[38;5;28;01mimport\u001b[39;00m get_backend\n\u001b[1;32m     14\u001b[0m \u001b[38;5;28;01mfrom\u001b[39;00m \u001b[38;5;21;01mhls4ml\u001b[39;00m\u001b[38;5;21;01m.\u001b[39;00m\u001b[38;5;21;01mwriter\u001b[39;00m \u001b[38;5;28;01mimport\u001b[39;00m get_writer\n\u001b[0;32m---> 15\u001b[0m \u001b[38;5;28;01mfrom\u001b[39;00m \u001b[38;5;21;01mhls4ml\u001b[39;00m\u001b[38;5;21;01m.\u001b[39;00m\u001b[38;5;21;01mmodel\u001b[39;00m\u001b[38;5;21;01m.\u001b[39;00m\u001b[38;5;21;01moptimizer\u001b[39;00m \u001b[38;5;28;01mimport\u001b[39;00m optimize_model, get_available_passes\n\u001b[1;32m     16\u001b[0m \u001b[38;5;28;01mfrom\u001b[39;00m \u001b[38;5;21;01mhls4ml\u001b[39;00m\u001b[38;5;21;01m.\u001b[39;00m\u001b[38;5;21;01mreport\u001b[39;00m\u001b[38;5;21;01m.\u001b[39;00m\u001b[38;5;21;01mvivado_report\u001b[39;00m \u001b[38;5;28;01mimport\u001b[39;00m parse_vivado_report\n\u001b[1;32m     18\u001b[0m \u001b[38;5;28;01mclass\u001b[39;00m \u001b[38;5;21;01mHLSConfig\u001b[39;00m(\u001b[38;5;28mobject\u001b[39m):\n",
      "File \u001b[0;32m~/miniconda3/envs/hls4ml-tutorial-cu/lib/python3.8/site-packages/hls4ml/model/optimizer/__init__.py:21\u001b[0m, in \u001b[0;36m<module>\u001b[0;34m\u001b[0m\n\u001b[1;32m     18\u001b[0m \u001b[38;5;28;01mfrom\u001b[39;00m \u001b[38;5;21;01mhls4ml\u001b[39;00m\u001b[38;5;21;01m.\u001b[39;00m\u001b[38;5;21;01mmodel\u001b[39;00m\u001b[38;5;21;01m.\u001b[39;00m\u001b[38;5;21;01moptimizer\u001b[39;00m\u001b[38;5;21;01m.\u001b[39;00m\u001b[38;5;21;01mpasses\u001b[39;00m\u001b[38;5;21;01m.\u001b[39;00m\u001b[38;5;21;01mmulti_dense\u001b[39;00m \u001b[38;5;28;01mimport\u001b[39;00m ReplaceMultidimensionalDenseWithConv\n\u001b[1;32m     20\u001b[0m \u001b[38;5;28;01mtry\u001b[39;00m:\n\u001b[0;32m---> 21\u001b[0m     \u001b[38;5;28;01mfrom\u001b[39;00m \u001b[38;5;21;01mhls4ml\u001b[39;00m\u001b[38;5;21;01m.\u001b[39;00m\u001b[38;5;21;01mmodel\u001b[39;00m\u001b[38;5;21;01m.\u001b[39;00m\u001b[38;5;21;01moptimizer\u001b[39;00m\u001b[38;5;21;01m.\u001b[39;00m\u001b[38;5;21;01mpasses\u001b[39;00m\u001b[38;5;21;01m.\u001b[39;00m\u001b[38;5;21;01mqkeras\u001b[39;00m \u001b[38;5;28;01mimport\u001b[39;00m OutputRoundingSaturationMode\n\u001b[1;32m     22\u001b[0m     \u001b[38;5;28;01mfrom\u001b[39;00m \u001b[38;5;21;01mhls4ml\u001b[39;00m\u001b[38;5;21;01m.\u001b[39;00m\u001b[38;5;21;01mmodel\u001b[39;00m\u001b[38;5;21;01m.\u001b[39;00m\u001b[38;5;21;01moptimizer\u001b[39;00m\u001b[38;5;21;01m.\u001b[39;00m\u001b[38;5;21;01mpasses\u001b[39;00m\u001b[38;5;21;01m.\u001b[39;00m\u001b[38;5;21;01mqkeras\u001b[39;00m \u001b[38;5;28;01mimport\u001b[39;00m QKerasFactorizeAlpha\n\u001b[1;32m     23\u001b[0m     \u001b[38;5;28;01mfrom\u001b[39;00m \u001b[38;5;21;01mhls4ml\u001b[39;00m\u001b[38;5;21;01m.\u001b[39;00m\u001b[38;5;21;01mmodel\u001b[39;00m\u001b[38;5;21;01m.\u001b[39;00m\u001b[38;5;21;01moptimizer\u001b[39;00m\u001b[38;5;21;01m.\u001b[39;00m\u001b[38;5;21;01mpasses\u001b[39;00m\u001b[38;5;21;01m.\u001b[39;00m\u001b[38;5;21;01mqkeras\u001b[39;00m \u001b[38;5;28;01mimport\u001b[39;00m FuseConsecutiveBatchNormalization\n",
      "File \u001b[0;32m~/miniconda3/envs/hls4ml-tutorial-cu/lib/python3.8/site-packages/hls4ml/model/optimizer/passes/qkeras.py:7\u001b[0m, in \u001b[0;36m<module>\u001b[0;34m\u001b[0m\n\u001b[1;32m      5\u001b[0m \u001b[38;5;28;01mimport\u001b[39;00m \u001b[38;5;21;01mtensorflow\u001b[39;00m \u001b[38;5;28;01mas\u001b[39;00m \u001b[38;5;21;01mtf\u001b[39;00m\n\u001b[1;32m      6\u001b[0m \u001b[38;5;28;01mimport\u001b[39;00m \u001b[38;5;21;01mnumpy\u001b[39;00m \u001b[38;5;28;01mas\u001b[39;00m \u001b[38;5;21;01mnp\u001b[39;00m\n\u001b[0;32m----> 7\u001b[0m \u001b[38;5;28;01mfrom\u001b[39;00m \u001b[38;5;21;01mqkeras\u001b[39;00m \u001b[38;5;28;01mimport\u001b[39;00m get_quantizer\n\u001b[1;32m      9\u001b[0m \u001b[38;5;28;01mclass\u001b[39;00m \u001b[38;5;21;01mQKerasPO2Quantizer\u001b[39;00m(\u001b[38;5;28mobject\u001b[39m):\n\u001b[1;32m     10\u001b[0m     \u001b[38;5;28;01mdef\u001b[39;00m \u001b[38;5;21m__init__\u001b[39m(\u001b[38;5;28mself\u001b[39m, config):\n",
      "File \u001b[0;32m~/miniconda3/envs/hls4ml-tutorial-cu/lib/python3.8/site-packages/qkeras/__init__.py:23\u001b[0m, in \u001b[0;36m<module>\u001b[0;34m\u001b[0m\n\u001b[1;32m     20\u001b[0m \u001b[38;5;28;01mimport\u001b[39;00m \u001b[38;5;21;01mtensorflow\u001b[39;00m \u001b[38;5;28;01mas\u001b[39;00m \u001b[38;5;21;01mtf\u001b[39;00m\n\u001b[1;32m     22\u001b[0m \u001b[38;5;28;01mfrom\u001b[39;00m \u001b[38;5;21;01m.\u001b[39;00m\u001b[38;5;21;01mb2t\u001b[39;00m \u001b[38;5;28;01mimport\u001b[39;00m \u001b[38;5;241m*\u001b[39m  \u001b[38;5;66;03m# pylint: disable=wildcard-import\u001b[39;00m\n\u001b[0;32m---> 23\u001b[0m \u001b[38;5;28;01mfrom\u001b[39;00m \u001b[38;5;21;01m.\u001b[39;00m\u001b[38;5;21;01mestimate\u001b[39;00m \u001b[38;5;28;01mimport\u001b[39;00m \u001b[38;5;241m*\u001b[39m  \u001b[38;5;66;03m# pylint: disable=wildcard-import\u001b[39;00m\n\u001b[1;32m     24\u001b[0m \u001b[38;5;28;01mfrom\u001b[39;00m \u001b[38;5;21;01m.\u001b[39;00m\u001b[38;5;21;01mqlayers\u001b[39;00m \u001b[38;5;28;01mimport\u001b[39;00m \u001b[38;5;241m*\u001b[39m  \u001b[38;5;66;03m# pylint: disable=wildcard-import\u001b[39;00m\n\u001b[1;32m     25\u001b[0m \u001b[38;5;28;01mfrom\u001b[39;00m \u001b[38;5;21;01m.\u001b[39;00m\u001b[38;5;21;01mquantizers\u001b[39;00m \u001b[38;5;28;01mimport\u001b[39;00m \u001b[38;5;241m*\u001b[39m  \u001b[38;5;66;03m# pylint: disable=wildcard-import\u001b[39;00m\n",
      "File \u001b[0;32m~/miniconda3/envs/hls4ml-tutorial-cu/lib/python3.8/site-packages/qkeras/estimate.py:41\u001b[0m, in \u001b[0;36m<module>\u001b[0;34m\u001b[0m\n\u001b[1;32m     38\u001b[0m \u001b[38;5;28;01mfrom\u001b[39;00m \u001b[38;5;21;01mtensorflow\u001b[39;00m\u001b[38;5;21;01m.\u001b[39;00m\u001b[38;5;21;01mkeras\u001b[39;00m\u001b[38;5;21;01m.\u001b[39;00m\u001b[38;5;21;01mlayers\u001b[39;00m \u001b[38;5;28;01mimport\u001b[39;00m InputLayer\n\u001b[1;32m     39\u001b[0m \u001b[38;5;28;01mfrom\u001b[39;00m \u001b[38;5;21;01mtensorflow\u001b[39;00m\u001b[38;5;21;01m.\u001b[39;00m\u001b[38;5;21;01mkeras\u001b[39;00m\u001b[38;5;21;01m.\u001b[39;00m\u001b[38;5;21;01mmodels\u001b[39;00m \u001b[38;5;28;01mimport\u001b[39;00m Model\n\u001b[0;32m---> 41\u001b[0m \u001b[38;5;28;01mfrom\u001b[39;00m \u001b[38;5;21;01m.\u001b[39;00m\u001b[38;5;21;01mqlayers\u001b[39;00m \u001b[38;5;28;01mimport\u001b[39;00m QActivation\n\u001b[1;32m     42\u001b[0m \u001b[38;5;28;01mfrom\u001b[39;00m \u001b[38;5;21;01m.\u001b[39;00m\u001b[38;5;21;01mqlayers\u001b[39;00m \u001b[38;5;28;01mimport\u001b[39;00m QAdaptiveActivation\n\u001b[1;32m     43\u001b[0m \u001b[38;5;28;01mfrom\u001b[39;00m \u001b[38;5;21;01m.\u001b[39;00m\u001b[38;5;21;01mqlayers\u001b[39;00m \u001b[38;5;28;01mimport\u001b[39;00m QDense\n",
      "File \u001b[0;32m~/miniconda3/envs/hls4ml-tutorial-cu/lib/python3.8/site-packages/qkeras/qlayers.py:58\u001b[0m, in \u001b[0;36m<module>\u001b[0;34m\u001b[0m\n\u001b[1;32m     56\u001b[0m \u001b[38;5;28;01mfrom\u001b[39;00m \u001b[38;5;21;01m.\u001b[39;00m\u001b[38;5;21;01mquantizers\u001b[39;00m \u001b[38;5;28;01mimport\u001b[39;00m _get_integer_bits\n\u001b[1;32m     57\u001b[0m \u001b[38;5;28;01mfrom\u001b[39;00m \u001b[38;5;21;01m.\u001b[39;00m\u001b[38;5;21;01mquantizers\u001b[39;00m \u001b[38;5;28;01mimport\u001b[39;00m get_quantizer\n\u001b[0;32m---> 58\u001b[0m \u001b[38;5;28;01mfrom\u001b[39;00m \u001b[38;5;21;01mtensorflow_model_optimization\u001b[39;00m\u001b[38;5;21;01m.\u001b[39;00m\u001b[38;5;21;01mpython\u001b[39;00m\u001b[38;5;21;01m.\u001b[39;00m\u001b[38;5;21;01mcore\u001b[39;00m\u001b[38;5;21;01m.\u001b[39;00m\u001b[38;5;21;01msparsity\u001b[39;00m\u001b[38;5;21;01m.\u001b[39;00m\u001b[38;5;21;01mkeras\u001b[39;00m\u001b[38;5;21;01m.\u001b[39;00m\u001b[38;5;21;01mprunable_layer\u001b[39;00m \u001b[38;5;28;01mimport\u001b[39;00m PrunableLayer\n\u001b[1;32m     61\u001b[0m \u001b[38;5;28;01mdef\u001b[39;00m \u001b[38;5;21mget_auto_range_constraint_initializer\u001b[39m(quantizer, constraint, initializer):\n\u001b[1;32m     62\u001b[0m   \u001b[38;5;124;03m\"\"\"Get value range automatically for quantizer.\u001b[39;00m\n\u001b[1;32m     63\u001b[0m \n\u001b[1;32m     64\u001b[0m \u001b[38;5;124;03m  Arguments:\u001b[39;00m\n\u001b[0;32m   (...)\u001b[0m\n\u001b[1;32m     73\u001b[0m \u001b[38;5;124;03m      initializer is initializer contraint by value range of quantizer.\u001b[39;00m\n\u001b[1;32m     74\u001b[0m \u001b[38;5;124;03m  \"\"\"\u001b[39;00m\n",
      "File \u001b[0;32m~/miniconda3/envs/hls4ml-tutorial-cu/lib/python3.8/site-packages/tensorflow_model_optimization/__init__.py:86\u001b[0m, in \u001b[0;36m<module>\u001b[0;34m\u001b[0m\n\u001b[1;32m     82\u001b[0m \u001b[38;5;66;03m# To ensure users only access the expected public API, the API structure is\u001b[39;00m\n\u001b[1;32m     83\u001b[0m \u001b[38;5;66;03m# created in the `api` directory. Import all api modules.\u001b[39;00m\n\u001b[1;32m     84\u001b[0m \u001b[38;5;28;01mfrom\u001b[39;00m \u001b[38;5;21;01mtensorflow_model_optimization\u001b[39;00m\u001b[38;5;21;01m.\u001b[39;00m\u001b[38;5;21;01mpython\u001b[39;00m\u001b[38;5;21;01m.\u001b[39;00m\u001b[38;5;21;01mcore\u001b[39;00m \u001b[38;5;28;01mimport\u001b[39;00m version\n\u001b[0;32m---> 86\u001b[0m \u001b[38;5;28;01mfrom\u001b[39;00m \u001b[38;5;21;01mtensorflow_model_optimization\u001b[39;00m\u001b[38;5;21;01m.\u001b[39;00m\u001b[38;5;21;01mpython\u001b[39;00m\u001b[38;5;21;01m.\u001b[39;00m\u001b[38;5;21;01mcore\u001b[39;00m\u001b[38;5;21;01m.\u001b[39;00m\u001b[38;5;21;01mapi\u001b[39;00m \u001b[38;5;28;01mimport\u001b[39;00m clustering\n\u001b[1;32m     87\u001b[0m \u001b[38;5;28;01mfrom\u001b[39;00m \u001b[38;5;21;01mtensorflow_model_optimization\u001b[39;00m\u001b[38;5;21;01m.\u001b[39;00m\u001b[38;5;21;01mpython\u001b[39;00m\u001b[38;5;21;01m.\u001b[39;00m\u001b[38;5;21;01mcore\u001b[39;00m\u001b[38;5;21;01m.\u001b[39;00m\u001b[38;5;21;01mapi\u001b[39;00m \u001b[38;5;28;01mimport\u001b[39;00m experimental\n\u001b[1;32m     88\u001b[0m \u001b[38;5;28;01mfrom\u001b[39;00m \u001b[38;5;21;01mtensorflow_model_optimization\u001b[39;00m\u001b[38;5;21;01m.\u001b[39;00m\u001b[38;5;21;01mpython\u001b[39;00m\u001b[38;5;21;01m.\u001b[39;00m\u001b[38;5;21;01mcore\u001b[39;00m\u001b[38;5;21;01m.\u001b[39;00m\u001b[38;5;21;01mapi\u001b[39;00m \u001b[38;5;28;01mimport\u001b[39;00m quantization\n",
      "File \u001b[0;32m~/miniconda3/envs/hls4ml-tutorial-cu/lib/python3.8/site-packages/tensorflow_model_optimization/python/core/api/__init__.py:16\u001b[0m, in \u001b[0;36m<module>\u001b[0;34m\u001b[0m\n\u001b[1;32m      1\u001b[0m \u001b[38;5;66;03m# Copyright 2021 The TensorFlow Authors. All Rights Reserved.\u001b[39;00m\n\u001b[1;32m      2\u001b[0m \u001b[38;5;66;03m#\u001b[39;00m\n\u001b[1;32m      3\u001b[0m \u001b[38;5;66;03m# Licensed under the Apache License, Version 2.0 (the \"License\");\u001b[39;00m\n\u001b[0;32m   (...)\u001b[0m\n\u001b[1;32m     13\u001b[0m \u001b[38;5;66;03m# limitations under the License.\u001b[39;00m\n\u001b[1;32m     14\u001b[0m \u001b[38;5;66;03m# ==============================================================================\u001b[39;00m\n\u001b[1;32m     15\u001b[0m \u001b[38;5;124;03m\"\"\"Import API modules for Tensorflow Model Optimization.\"\"\"\u001b[39;00m\n\u001b[0;32m---> 16\u001b[0m \u001b[38;5;28;01mfrom\u001b[39;00m \u001b[38;5;21;01mtensorflow_model_optimization\u001b[39;00m\u001b[38;5;21;01m.\u001b[39;00m\u001b[38;5;21;01mpython\u001b[39;00m\u001b[38;5;21;01m.\u001b[39;00m\u001b[38;5;21;01mcore\u001b[39;00m\u001b[38;5;21;01m.\u001b[39;00m\u001b[38;5;21;01mapi\u001b[39;00m \u001b[38;5;28;01mimport\u001b[39;00m clustering\n\u001b[1;32m     17\u001b[0m \u001b[38;5;28;01mfrom\u001b[39;00m \u001b[38;5;21;01mtensorflow_model_optimization\u001b[39;00m\u001b[38;5;21;01m.\u001b[39;00m\u001b[38;5;21;01mpython\u001b[39;00m\u001b[38;5;21;01m.\u001b[39;00m\u001b[38;5;21;01mcore\u001b[39;00m\u001b[38;5;21;01m.\u001b[39;00m\u001b[38;5;21;01mapi\u001b[39;00m \u001b[38;5;28;01mimport\u001b[39;00m experimental\n\u001b[1;32m     18\u001b[0m \u001b[38;5;28;01mfrom\u001b[39;00m \u001b[38;5;21;01mtensorflow_model_optimization\u001b[39;00m\u001b[38;5;21;01m.\u001b[39;00m\u001b[38;5;21;01mpython\u001b[39;00m\u001b[38;5;21;01m.\u001b[39;00m\u001b[38;5;21;01mcore\u001b[39;00m\u001b[38;5;21;01m.\u001b[39;00m\u001b[38;5;21;01mapi\u001b[39;00m \u001b[38;5;28;01mimport\u001b[39;00m quantization\n",
      "File \u001b[0;32m~/miniconda3/envs/hls4ml-tutorial-cu/lib/python3.8/site-packages/tensorflow_model_optimization/python/core/api/clustering/__init__.py:16\u001b[0m, in \u001b[0;36m<module>\u001b[0;34m\u001b[0m\n\u001b[1;32m      1\u001b[0m \u001b[38;5;66;03m# Copyright 2020 The TensorFlow Authors. All Rights Reserved.\u001b[39;00m\n\u001b[1;32m      2\u001b[0m \u001b[38;5;66;03m#\u001b[39;00m\n\u001b[1;32m      3\u001b[0m \u001b[38;5;66;03m# Licensed under the Apache License, Version 2.0 (the \"License\");\u001b[39;00m\n\u001b[0;32m   (...)\u001b[0m\n\u001b[1;32m     13\u001b[0m \u001b[38;5;66;03m# limitations under the License.\u001b[39;00m\n\u001b[1;32m     14\u001b[0m \u001b[38;5;66;03m# ==============================================================================\u001b[39;00m\n\u001b[1;32m     15\u001b[0m \u001b[38;5;124;03m\"\"\"Module containing code for clustering.\"\"\"\u001b[39;00m\n\u001b[0;32m---> 16\u001b[0m \u001b[38;5;28;01mfrom\u001b[39;00m \u001b[38;5;21;01mtensorflow_model_optimization\u001b[39;00m\u001b[38;5;21;01m.\u001b[39;00m\u001b[38;5;21;01mpython\u001b[39;00m\u001b[38;5;21;01m.\u001b[39;00m\u001b[38;5;21;01mcore\u001b[39;00m\u001b[38;5;21;01m.\u001b[39;00m\u001b[38;5;21;01mapi\u001b[39;00m\u001b[38;5;21;01m.\u001b[39;00m\u001b[38;5;21;01mclustering\u001b[39;00m \u001b[38;5;28;01mimport\u001b[39;00m keras\n",
      "File \u001b[0;32m~/miniconda3/envs/hls4ml-tutorial-cu/lib/python3.8/site-packages/tensorflow_model_optimization/python/core/api/clustering/keras/__init__.py:19\u001b[0m, in \u001b[0;36m<module>\u001b[0;34m\u001b[0m\n\u001b[1;32m     16\u001b[0m \u001b[38;5;66;03m# pylint: disable=g-bad-import-order\u001b[39;00m\n\u001b[1;32m     17\u001b[0m \u001b[38;5;28;01mfrom\u001b[39;00m \u001b[38;5;21;01mtensorflow_model_optimization\u001b[39;00m\u001b[38;5;21;01m.\u001b[39;00m\u001b[38;5;21;01mpython\u001b[39;00m\u001b[38;5;21;01m.\u001b[39;00m\u001b[38;5;21;01mcore\u001b[39;00m\u001b[38;5;21;01m.\u001b[39;00m\u001b[38;5;21;01mclustering\u001b[39;00m\u001b[38;5;21;01m.\u001b[39;00m\u001b[38;5;21;01mkeras\u001b[39;00m \u001b[38;5;28;01mimport\u001b[39;00m experimental\n\u001b[0;32m---> 19\u001b[0m \u001b[38;5;28;01mfrom\u001b[39;00m \u001b[38;5;21;01mtensorflow_model_optimization\u001b[39;00m\u001b[38;5;21;01m.\u001b[39;00m\u001b[38;5;21;01mpython\u001b[39;00m\u001b[38;5;21;01m.\u001b[39;00m\u001b[38;5;21;01mcore\u001b[39;00m\u001b[38;5;21;01m.\u001b[39;00m\u001b[38;5;21;01mclustering\u001b[39;00m\u001b[38;5;21;01m.\u001b[39;00m\u001b[38;5;21;01mkeras\u001b[39;00m\u001b[38;5;21;01m.\u001b[39;00m\u001b[38;5;21;01mcluster\u001b[39;00m \u001b[38;5;28;01mimport\u001b[39;00m cluster_scope\n\u001b[1;32m     20\u001b[0m \u001b[38;5;28;01mfrom\u001b[39;00m \u001b[38;5;21;01mtensorflow_model_optimization\u001b[39;00m\u001b[38;5;21;01m.\u001b[39;00m\u001b[38;5;21;01mpython\u001b[39;00m\u001b[38;5;21;01m.\u001b[39;00m\u001b[38;5;21;01mcore\u001b[39;00m\u001b[38;5;21;01m.\u001b[39;00m\u001b[38;5;21;01mclustering\u001b[39;00m\u001b[38;5;21;01m.\u001b[39;00m\u001b[38;5;21;01mkeras\u001b[39;00m\u001b[38;5;21;01m.\u001b[39;00m\u001b[38;5;21;01mcluster\u001b[39;00m \u001b[38;5;28;01mimport\u001b[39;00m cluster_weights\n\u001b[1;32m     21\u001b[0m \u001b[38;5;28;01mfrom\u001b[39;00m \u001b[38;5;21;01mtensorflow_model_optimization\u001b[39;00m\u001b[38;5;21;01m.\u001b[39;00m\u001b[38;5;21;01mpython\u001b[39;00m\u001b[38;5;21;01m.\u001b[39;00m\u001b[38;5;21;01mcore\u001b[39;00m\u001b[38;5;21;01m.\u001b[39;00m\u001b[38;5;21;01mclustering\u001b[39;00m\u001b[38;5;21;01m.\u001b[39;00m\u001b[38;5;21;01mkeras\u001b[39;00m\u001b[38;5;21;01m.\u001b[39;00m\u001b[38;5;21;01mcluster\u001b[39;00m \u001b[38;5;28;01mimport\u001b[39;00m strip_clustering\n",
      "File \u001b[0;32m~/miniconda3/envs/hls4ml-tutorial-cu/lib/python3.8/site-packages/tensorflow_model_optimization/python/core/clustering/keras/cluster.py:20\u001b[0m, in \u001b[0;36m<module>\u001b[0;34m\u001b[0m\n\u001b[1;32m     17\u001b[0m \u001b[38;5;28;01mimport\u001b[39;00m \u001b[38;5;21;01mtensorflow\u001b[39;00m \u001b[38;5;28;01mas\u001b[39;00m \u001b[38;5;21;01mtf\u001b[39;00m\n\u001b[1;32m     19\u001b[0m \u001b[38;5;28;01mfrom\u001b[39;00m \u001b[38;5;21;01mtensorflow_model_optimization\u001b[39;00m\u001b[38;5;21;01m.\u001b[39;00m\u001b[38;5;21;01mpython\u001b[39;00m\u001b[38;5;21;01m.\u001b[39;00m\u001b[38;5;21;01mcore\u001b[39;00m\u001b[38;5;21;01m.\u001b[39;00m\u001b[38;5;21;01mclustering\u001b[39;00m\u001b[38;5;21;01m.\u001b[39;00m\u001b[38;5;21;01mkeras\u001b[39;00m \u001b[38;5;28;01mimport\u001b[39;00m cluster_config\n\u001b[0;32m---> 20\u001b[0m \u001b[38;5;28;01mfrom\u001b[39;00m \u001b[38;5;21;01mtensorflow_model_optimization\u001b[39;00m\u001b[38;5;21;01m.\u001b[39;00m\u001b[38;5;21;01mpython\u001b[39;00m\u001b[38;5;21;01m.\u001b[39;00m\u001b[38;5;21;01mcore\u001b[39;00m\u001b[38;5;21;01m.\u001b[39;00m\u001b[38;5;21;01mclustering\u001b[39;00m\u001b[38;5;21;01m.\u001b[39;00m\u001b[38;5;21;01mkeras\u001b[39;00m \u001b[38;5;28;01mimport\u001b[39;00m cluster_wrapper\n\u001b[1;32m     21\u001b[0m \u001b[38;5;28;01mfrom\u001b[39;00m \u001b[38;5;21;01mtensorflow_model_optimization\u001b[39;00m\u001b[38;5;21;01m.\u001b[39;00m\u001b[38;5;21;01mpython\u001b[39;00m\u001b[38;5;21;01m.\u001b[39;00m\u001b[38;5;21;01mcore\u001b[39;00m\u001b[38;5;21;01m.\u001b[39;00m\u001b[38;5;21;01mclustering\u001b[39;00m\u001b[38;5;21;01m.\u001b[39;00m\u001b[38;5;21;01mkeras\u001b[39;00m \u001b[38;5;28;01mimport\u001b[39;00m clustering_centroids\n\u001b[1;32m     23\u001b[0m k \u001b[38;5;241m=\u001b[39m tf\u001b[38;5;241m.\u001b[39mkeras\u001b[38;5;241m.\u001b[39mbackend\n",
      "File \u001b[0;32m~/miniconda3/envs/hls4ml-tutorial-cu/lib/python3.8/site-packages/tensorflow_model_optimization/python/core/clustering/keras/cluster_wrapper.py:24\u001b[0m, in \u001b[0;36m<module>\u001b[0;34m\u001b[0m\n\u001b[1;32m     22\u001b[0m \u001b[38;5;28;01mfrom\u001b[39;00m \u001b[38;5;21;01mtensorflow_model_optimization\u001b[39;00m\u001b[38;5;21;01m.\u001b[39;00m\u001b[38;5;21;01mpython\u001b[39;00m\u001b[38;5;21;01m.\u001b[39;00m\u001b[38;5;21;01mcore\u001b[39;00m\u001b[38;5;21;01m.\u001b[39;00m\u001b[38;5;21;01mclustering\u001b[39;00m\u001b[38;5;21;01m.\u001b[39;00m\u001b[38;5;21;01mkeras\u001b[39;00m \u001b[38;5;28;01mimport\u001b[39;00m clusterable_layer\n\u001b[1;32m     23\u001b[0m \u001b[38;5;28;01mfrom\u001b[39;00m \u001b[38;5;21;01mtensorflow_model_optimization\u001b[39;00m\u001b[38;5;21;01m.\u001b[39;00m\u001b[38;5;21;01mpython\u001b[39;00m\u001b[38;5;21;01m.\u001b[39;00m\u001b[38;5;21;01mcore\u001b[39;00m\u001b[38;5;21;01m.\u001b[39;00m\u001b[38;5;21;01mclustering\u001b[39;00m\u001b[38;5;21;01m.\u001b[39;00m\u001b[38;5;21;01mkeras\u001b[39;00m \u001b[38;5;28;01mimport\u001b[39;00m clustering_centroids\n\u001b[0;32m---> 24\u001b[0m \u001b[38;5;28;01mfrom\u001b[39;00m \u001b[38;5;21;01mtensorflow_model_optimization\u001b[39;00m\u001b[38;5;21;01m.\u001b[39;00m\u001b[38;5;21;01mpython\u001b[39;00m\u001b[38;5;21;01m.\u001b[39;00m\u001b[38;5;21;01mcore\u001b[39;00m\u001b[38;5;21;01m.\u001b[39;00m\u001b[38;5;21;01mclustering\u001b[39;00m\u001b[38;5;21;01m.\u001b[39;00m\u001b[38;5;21;01mkeras\u001b[39;00m \u001b[38;5;28;01mimport\u001b[39;00m clustering_registry\n\u001b[1;32m     26\u001b[0m attrgetter \u001b[38;5;241m=\u001b[39m operator\u001b[38;5;241m.\u001b[39mattrgetter  \u001b[38;5;66;03m# pylint: disable=invalid-name\u001b[39;00m\n\u001b[1;32m     27\u001b[0m keras \u001b[38;5;241m=\u001b[39m tf\u001b[38;5;241m.\u001b[39mkeras\n",
      "File \u001b[0;32m~/miniconda3/envs/hls4ml-tutorial-cu/lib/python3.8/site-packages/tensorflow_model_optimization/python/core/clustering/keras/clustering_registry.py:57\u001b[0m, in \u001b[0;36m<module>\u001b[0;34m\u001b[0m\n\u001b[1;32m     53\u001b[0m         \u001b[38;5;28;01mreturn\u001b[39;00m ans\n\u001b[1;32m     54\u001b[0m     \u001b[38;5;28;01mreturn\u001b[39;00m ClusteringAlgorithm\n\u001b[0;32m---> 57\u001b[0m \u001b[38;5;28;01mclass\u001b[39;00m \u001b[38;5;21;01mClusteringRegistry\u001b[39;00m(\u001b[38;5;28mobject\u001b[39m):\n\u001b[1;32m     58\u001b[0m   \u001b[38;5;124;03m\"\"\"Registry responsible for built-in keras layers.\"\"\"\u001b[39;00m\n\u001b[1;32m     60\u001b[0m   \u001b[38;5;66;03m# The keys represent built-in keras layers and the values represent the\u001b[39;00m\n\u001b[1;32m     61\u001b[0m   \u001b[38;5;66;03m# the variables within the layers which hold the kernel weights. This\u001b[39;00m\n\u001b[1;32m     62\u001b[0m   \u001b[38;5;66;03m# allows the wrapper to access and modify the weights.\u001b[39;00m\n",
      "File \u001b[0;32m~/miniconda3/envs/hls4ml-tutorial-cu/lib/python3.8/site-packages/tensorflow_model_optimization/python/core/clustering/keras/clustering_registry.py:103\u001b[0m, in \u001b[0;36mClusteringRegistry\u001b[0;34m()\u001b[0m\n\u001b[1;32m     81\u001b[0m _SUPPORTED_RNN_CELLS \u001b[38;5;241m=\u001b[39m \u001b[38;5;28mfrozenset\u001b[39m({\n\u001b[1;32m     82\u001b[0m     \u001b[38;5;66;03m# Sometimes v2 RNN will wrap some v1 RNN cells and we need\u001b[39;00m\n\u001b[1;32m     83\u001b[0m     \u001b[38;5;66;03m# to consider this\u001b[39;00m\n\u001b[0;32m   (...)\u001b[0m\n\u001b[1;32m     91\u001b[0m     tf\u001b[38;5;241m.\u001b[39mcompat\u001b[38;5;241m.\u001b[39mv2\u001b[38;5;241m.\u001b[39mkeras\u001b[38;5;241m.\u001b[39mlayers\u001b[38;5;241m.\u001b[39mStackedRNNCells,\n\u001b[1;32m     92\u001b[0m })\n\u001b[1;32m     94\u001b[0m _SUPPORTED_RNN_LAYERS \u001b[38;5;241m=\u001b[39m \u001b[38;5;28mfrozenset\u001b[39m([\n\u001b[1;32m     95\u001b[0m     layers\u001b[38;5;241m.\u001b[39mGRU,\n\u001b[1;32m     96\u001b[0m     layers\u001b[38;5;241m.\u001b[39mLSTM,\n\u001b[0;32m   (...)\u001b[0m\n\u001b[1;32m     99\u001b[0m     layers\u001b[38;5;241m.\u001b[39mBidirectional,\n\u001b[1;32m    100\u001b[0m ])\n\u001b[1;32m    102\u001b[0m _SUPPORTED_MHA_LAYERS \u001b[38;5;241m=\u001b[39m {\n\u001b[0;32m--> 103\u001b[0m     \u001b[43mtf\u001b[49m\u001b[38;5;241;43m.\u001b[39;49m\u001b[43mkeras\u001b[49m\u001b[38;5;241;43m.\u001b[39;49m\u001b[43mlayers\u001b[49m\u001b[38;5;241;43m.\u001b[39;49m\u001b[43mMultiHeadAttention\u001b[49m,\n\u001b[1;32m    104\u001b[0m }\n\u001b[1;32m    106\u001b[0m \u001b[38;5;129m@classmethod\u001b[39m\n\u001b[1;32m    107\u001b[0m \u001b[38;5;28;01mdef\u001b[39;00m \u001b[38;5;21msupports\u001b[39m(\u001b[38;5;28mcls\u001b[39m, layer):\n\u001b[1;32m    108\u001b[0m   \u001b[38;5;124;03m\"\"\"Returns whether the registry supports this layer type.\u001b[39;00m\n\u001b[1;32m    109\u001b[0m \n\u001b[1;32m    110\u001b[0m \u001b[38;5;124;03m  Args:\u001b[39;00m\n\u001b[0;32m   (...)\u001b[0m\n\u001b[1;32m    115\u001b[0m \n\u001b[1;32m    116\u001b[0m \u001b[38;5;124;03m  \"\"\"\u001b[39;00m\n",
      "\u001b[0;31mAttributeError\u001b[0m: module 'tensorflow.keras.layers' has no attribute 'MultiHeadAttention'"
     ]
    }
   ],
   "source": [
    "# Let's import hls4ml package!\n",
    "import hls4ml"
   ]
  },
  {
   "cell_type": "markdown",
   "metadata": {},
   "source": [
    "### Create an hls4ml configuration & model\n",
    "\n",
    "hls4ml is controlled through an _hls4ml configuration dictionary_. In this example, we'll use the most simple variation (`granularity='model'`), later exercises will look at more advanced configuration."
   ]
  },
  {
   "cell_type": "code",
   "execution_count": null,
   "metadata": {},
   "outputs": [],
   "source": [
    "# Generate a hls4ml configuration dictionary from the Keras model\n",
    "config = hls4ml.utils.config_from_keras_model(model, granularity='model')\n",
    "\n",
    "print('-----------------------------------')\n",
    "# Show the generated configuration dictionary for hls4ml\n",
    "plotting.print_dict(config)\n",
    "print('-----------------------------------')"
   ]
  },
  {
   "cell_type": "markdown",
   "metadata": {},
   "source": [
    "Let's create an HLS model from the Keras model and hls4ml configuration dictionary. Please just notice that, in these notebooks, we plan to target (`fpga_part`) three different boards equipped with Xilinx SoC chips: a [ZCU106](https://www.xilinx.com/products/boards-and-kits/zcu106.html), an [Ultra96](http://zedboard.org/product/ultra96-v2-development-board), [Pyqn-Z1](https://reference.digilentinc.com/reference/programmable-logic/pynq-z1), and an even _smaller_ [MiniZed](http://zedboard.org/product/minized)."
   ]
  },
  {
   "cell_type": "code",
   "execution_count": null,
   "metadata": {},
   "outputs": [],
   "source": [
    "hls_model = hls4ml.converters.convert_from_keras_model(model,\n",
    "                                                       hls_config=config,\n",
    "                                                       output_dir='model_1/hls4ml_prj',\n",
    "                                                       #fpga_part='xczu7ev-ffvc1156-2-e') # ZCU106\n",
    "                                                       fpga_part='xczu3eg-sbva484-1-e') # Ultra96\n",
    "                                                       #fpga_part='xc7z020clg400-1') # Pynq-Z1\n",
    "                                                       #fpga_part='xc7z007sclg225-1') # MiniZed"
   ]
  },
  {
   "cell_type": "markdown",
   "metadata": {},
   "source": [
    "Let's visualise the HLS model that we created. The model architecture is shown annotated with the layer shapes and [data types](https://github.com/Xilinx/HLS_arbitrary_Precision_Types). Please note that we are converting the trained model from a floating-point implementation to a fixed-point implementation. _Post-training quantization_ is a conversion technique that can reduce resource requriments and latency of the final hardware accelerator, with little degradation in model accuracy."
   ]
  },
  {
   "cell_type": "code",
   "execution_count": null,
   "metadata": {},
   "outputs": [],
   "source": [
    "hls4ml.utils.plot_model(hls_model, show_shapes=True, show_precision=True, to_file=None)"
   ]
  },
  {
   "cell_type": "markdown",
   "metadata": {},
   "source": [
    "### Compile & Predict\n",
    "\n",
    "Because of the quantization, now we need to check that the HLS-model performance is still good. We first compile the `hls_model`."
   ]
  },
  {
   "cell_type": "code",
   "execution_count": null,
   "metadata": {},
   "outputs": [],
   "source": [
    "%%time\n",
    "hls_model.compile()"
   ]
  },
  {
   "cell_type": "markdown",
   "metadata": {},
   "source": [
    "Then we use `hls_model.predict` to execute the FPGA firmware with bit-accurate emulation **on the CPU**."
   ]
  },
  {
   "cell_type": "code",
   "execution_count": null,
   "metadata": {},
   "outputs": [],
   "source": [
    "%%time\n",
    "y_hls = hls_model.predict(np.ascontiguousarray(X_test))\n",
    "# this an alternative to np.ascontiguousarray()\n",
    "#X_test = X_test.copy(order='C')\n",
    "#y_hls = hls_model.predict(X_test)"
   ]
  },
  {
   "cell_type": "markdown",
   "metadata": {},
   "source": [
    "### Compare Performance\n",
    "That was easy! Now let's see how the performance compares to Keras:"
   ]
  },
  {
   "cell_type": "code",
   "execution_count": null,
   "metadata": {},
   "outputs": [],
   "source": [
    "print('-----------------------------------')\n",
    "print(\"Keras  Accuracy: {}\".format(accuracy_score(np.argmax(y_test, axis=1), np.argmax(y_keras, axis=1))))\n",
    "print(\"hls4ml Accuracy: {}\".format(accuracy_score(np.argmax(y_test, axis=1), np.argmax(y_hls, axis=1))))\n",
    "print('-----------------------------------')\n",
    "\n",
    "# Enable logarithmic scale on TPR and FPR axes \n",
    "logscale_tpr = False # Y axis\n",
    "logscale_fpr = False # X axis\n",
    "\n",
    "fig, ax = plt.subplots(figsize=(9, 9))\n",
    "_ = plotting.plotMultiClassRoc(y_test, y_keras, le.classes_, logscale_tpr=logscale_tpr, logscale_fpr=logscale_fpr)\n",
    "plt.gca().set_prop_cycle(None) # reset the colors\n",
    "_ = plotting.plotMultiClassRoc(y_test, y_hls, le.classes_, logscale_tpr=logscale_tpr, logscale_fpr=logscale_fpr, linestyle='--')\n",
    "\n",
    "from matplotlib.lines import Line2D\n",
    "lines = [Line2D([0], [0], ls='-'),\n",
    "         Line2D([0], [0], ls='--')]\n",
    "from matplotlib.legend import Legend\n",
    "leg = Legend(ax, lines, labels=['keras', 'hls4ml'],\n",
    "            loc='center right', frameon=False)\n",
    "_ = ax.add_artist(leg)"
   ]
  },
  {
   "cell_type": "markdown",
   "metadata": {},
   "source": [
    "The AUC results for the Keras and hls4ml implementation are really close - up to the second decimal point. You can notice the difference on ROC curves if you apply logaritmic scale on the FPR axis (`logscale_fpr=True`)."
   ]
  },
  {
   "cell_type": "markdown",
   "metadata": {},
   "source": [
    "### Synthesize\n",
    "Now we'll actually use Vivado HLS to synthesize the model (_C-Synthesis_). We can run the build using a method of our `hls_model` object.\n",
    "\n",
    "After running this step, we can integrate the generated IP into a workflow to compile for a specific FPGA board.\n",
    "In this case, we'll just review the reports that Vivado HLS generates, checking the latency and resource usage."
   ]
  },
  {
   "cell_type": "code",
   "execution_count": null,
   "metadata": {},
   "outputs": [],
   "source": [
    "%%time\n",
    "hls_results = hls_model.build(csim=False)"
   ]
  },
  {
   "cell_type": "markdown",
   "metadata": {},
   "source": [
    "**This takes approx. 15 minutes on Columbia servers.**\n",
    "\n",
    "While the C-Synthesis is running, we can monitor the progress looking at the log file by opening a terminal from the notebook home, and executing:\n",
    "\n",
    "`tail -f model_1/hls4ml_prj/vivado_hls.log`\n",
    "\n",
    "<img src='images/terminal.png'>"
   ]
  },
  {
   "cell_type": "markdown",
   "metadata": {},
   "source": [
    "### Check the results\n",
    "\n",
    "You can print the HLS results from the synthesis at the previous step."
   ]
  },
  {
   "cell_type": "code",
   "execution_count": null,
   "metadata": {},
   "outputs": [],
   "source": [
    "print('-----------------------------------')\n",
    "#print(hls_results) # Print hashmap\n",
    "print(\"Estimated Clock Period: {} ns\".format(hls_results['EstimatedClockPeriod']))\n",
    "print(\"Best/Worst Latency:     {} / {}\".format(hls_results['BestLatency'], hls_results['WorstLatency']))\n",
    "print(\"Interval Min/Max:       {} / {}\".format(hls_results['IntervalMin'], hls_results['IntervalMax']))\n",
    "print(\"BRAM_18K:               {} (Aval. {})\".format(hls_results['BRAM_18K'], hls_results['AvailableBRAM_18K']))\n",
    "print(\"DSP48E:                 {} (Aval. {})\".format(hls_results['DSP48E'], hls_results['AvailableDSP48E']))\n",
    "print(\"FF:                     {} (Aval. {})\".format(hls_results['FF'], hls_results['AvailableFF']))\n",
    "print(\"LUT:                    {} (Aval. {})\".format(hls_results['LUT'], hls_results['AvailableLUT']))\n",
    "print(\"URAM:                   {} (Aval. {})\".format(hls_results['URAM'], hls_results['AvailableURAM']))\n",
    "print('-----------------------------------')"
   ]
  },
  {
   "cell_type": "code",
   "execution_count": null,
   "metadata": {},
   "outputs": [],
   "source": [
    "print(hls_results)"
   ]
  },
  {
   "cell_type": "markdown",
   "metadata": {},
   "source": [
    "You can also view the entire reports generated by Vivado HLS. Pay attention to the _Latency_ and the _Utilization Estimates_ sections."
   ]
  },
  {
   "cell_type": "code",
   "execution_count": null,
   "metadata": {
    "scrolled": true
   },
   "outputs": [],
   "source": [
    "hls4ml.report.read_vivado_report('model_1/hls4ml_prj/')"
   ]
  },
  {
   "cell_type": "markdown",
   "metadata": {},
   "source": [
    "### Under the Hood\n",
    "\n",
    "The `hls_model` and in particular all of the the hls4ml-generated files are in the `model_1/hls4ml_prj` directory.\n",
    "\n",
    "In this tutorial we use the [Python API](https://fastmachinelearning.org/hls4ml/autodoc/hls4ml.html) to hls4ml, but the tool comes also with a [command line interface](https://fastmachinelearning.org/hls4ml/command.html)"
   ]
  },
  {
   "cell_type": "markdown",
   "metadata": {},
   "source": [
    "## Conclusions\n",
    "\n",
    "With the current hls4ml configurations, the resource usage that HLS _estimates_ for the current design is greater than the available resources on each of the boards ([ZCU106](https://www.xilinx.com/products/boards-and-kits/zcu106.html), [Ultra96](http://zedboard.org/product/ultra96-v2-development-board), [Pynq-Z1](https://reference.digilentinc.com/reference/programmable-logic/pynq-z1), and [MiniZed](http://zedboard.org/product/minized)).\n",
    "\n",
    "In the next notebooks, we will learn how to reduce the hardware-resource usage without affecting the model accuracy.\n",
    "\n",
    "<img src=\"images/boards.png\" style=\"width:640pt;\" />\n",
    "\n",
    "Here we summarize the expected latency and resource costs for each of these boards from the previous synthesis runs.\n",
    "\n",
    "```\n",
    "+-----------------------------------------------------------+\n",
    "|                        ZCU106                             |\n",
    "+-----------------+---------+-------+--------+--------+-----+\n",
    "|       Name      | BRAM_18K| DSP48E|   FF   |   LUT  | URAM|\n",
    "+-----------------+---------+-------+--------+--------+-----+ +-----+-----+-----+-----+----------+\n",
    "|Total            |        4|   3911|   26921|   88404|    0| |  Latency  |  Interval | Pipeline |\n",
    "+-----------------+---------+-------+--------+--------+-----+ | min | max | min | max |   Type   |\n",
    "|Available        |      624|   1728|  460800|  230400|   96| +-----+-----+-----+-----+----------+\n",
    "+-----------------+---------+-------+--------+--------+-----+ |    9|    9|    1|    1| function |\n",
    "|Utilization (%)  |    ~0   |    226|       5|      38|    0| +-----+-----+-----+-----+----------+\n",
    "+-----------------+---------+-------+--------+--------+-----+\n",
    "\n",
    "+-----------------------------------------------------------+\n",
    "|                        Ultra96                            |\n",
    "+-----------------+---------+-------+--------+-------+------+\n",
    "|       Name      | BRAM_18K| DSP48E|   FF   |   LUT |  URAM|\n",
    "+-----------------+---------+-------+--------+-------+------+ +-----+-----+-----+-----+----------+\n",
    "|Total            |        4|   3911|   49742|  88564|     0| |  Latency  |  Interval | Pipeline |\n",
    "+-----------------+---------+-------+--------+-------+------+ | min | max | min | max |   Type   |\n",
    "|Available        |      432|    360|  141120|  70560|     0| +-----+-----+-----+-----+----------+\n",
    "+-----------------+---------+-------+--------+-------+------+ |   14|   14|    1|    1| function |\n",
    "|Utilization (%)  |    ~0   |   1086|      35|    125|     0| +-----+-----+-----+-----+----------+\n",
    "+-----------------+---------+-------+--------+-------+------+\n",
    "\n",
    "+----------------------------------------------------------+\n",
    "|                        Pynq-Z1                           |\n",
    "+-----------------+---------+-------+--------+-------+-----+ +-----+-----+-----+-----+----------+\n",
    "|       Name      | BRAM_18K| DSP48E|   FF   |  LUT  | URAM| |  Latency  |  Interval | Pipeline |\n",
    "+-----------------+---------+-------+--------+-------+-----+ | min | max | min | max |   Type   |\n",
    "|Total            |        4|   3911|  270258|  90772|    0| +-----+-----+-----+-----+----------+\n",
    "+-----------------+---------+-------+--------+-------+-----+ |   52|   52|    1|    1| function |\n",
    "|Available        |      280|    220|  106400|  53200|    0| +-----+-----+-----+-----+----------+\n",
    "+-----------------+---------+-------+--------+-------+-----+\n",
    "|Utilization (%)  |        1|   1777|     254|    170|    0|\n",
    "+-----------------+---------+-------+--------+-------+-----+\n",
    "\n",
    "+----------------------------------------------------------+\n",
    "|                        MiniZed                           |\n",
    "+-----------------+---------+-------+--------+-------+-----+ +-----+-----+-----+-----+----------+\n",
    "|Total            |        4|   3911|  270258|  90772|    0| |  Latency  |  Interval | Pipeline |\n",
    "+-----------------+---------+-------+--------+-------+-----+ | min | max | min | max |   Type   |\n",
    "|Available        |      100|     66|   28800|  14400|    0| +-----+-----+-----+-----+----------+\n",
    "+-----------------+---------+-------+--------+-------+-----+ |   52|   52|    1|    1| function |\n",
    "|Utilization (%)  |        4|   5925|     938|    630|    0| +-----+-----+-----+-----+----------+\n",
    "+-----------------+---------+-------+--------+-------+-----+\n",
    "```"
   ]
  },
  {
   "cell_type": "markdown",
   "metadata": {},
   "source": [
    "## Exercise\n",
    "Since `ReuseFactor = 1` we expect each multiplication used in the inference of our neural network to use 1 DSP. Is this what we see? (Note that the Softmax layer should use 5 DSPs, or 1 per class)\n",
    "Calculate how many multiplications are performed for the inference of this network...\n",
    "(We'll discuss the outcome)"
   ]
  }
 ],
 "metadata": {
  "kernelspec": {
   "display_name": "Python 3 (ipykernel)",
   "language": "python",
   "name": "python3"
  },
  "language_info": {
   "codemirror_mode": {
    "name": "ipython",
    "version": 3
   },
   "file_extension": ".py",
   "mimetype": "text/x-python",
   "name": "python",
   "nbconvert_exporter": "python",
   "pygments_lexer": "ipython3",
   "version": "3.8.13"
  },
  "toc": {
   "base_numbering": 1,
   "nav_menu": {},
   "number_sections": false,
   "sideBar": true,
   "skip_h1_title": false,
   "title_cell": "Table of Contents",
   "title_sidebar": "Contents",
   "toc_cell": false,
   "toc_position": {},
   "toc_section_display": true,
   "toc_window_display": true
  }
 },
 "nbformat": 4,
 "nbformat_minor": 2
}
